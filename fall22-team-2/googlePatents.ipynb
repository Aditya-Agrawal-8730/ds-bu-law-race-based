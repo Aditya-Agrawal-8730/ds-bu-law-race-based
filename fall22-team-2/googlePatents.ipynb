{
 "cells": [
  {
   "cell_type": "code",
   "execution_count": 1,
   "metadata": {},
   "outputs": [],
   "source": [
    "import pandas as pd\n",
    "import numpy as np\n",
    "from google_patent_scraper import scraper_class\n",
    "import json\n",
    "from bs4 import BeautifulSoup\n",
    "import requests"
   ]
  },
  {
   "cell_type": "code",
   "execution_count": 2,
   "metadata": {},
   "outputs": [
    {
     "data": {
      "text/html": [
       "<div>\n",
       "<style scoped>\n",
       "    .dataframe tbody tr th:only-of-type {\n",
       "        vertical-align: middle;\n",
       "    }\n",
       "\n",
       "    .dataframe tbody tr th {\n",
       "        vertical-align: top;\n",
       "    }\n",
       "\n",
       "    .dataframe thead th {\n",
       "        text-align: right;\n",
       "    }\n",
       "</style>\n",
       "<table border=\"1\" class=\"dataframe\">\n",
       "  <thead>\n",
       "    <tr style=\"text-align: right;\">\n",
       "      <th></th>\n",
       "      <th>application_number</th>\n",
       "      <th>filing_date</th>\n",
       "      <th>inventor_name_first</th>\n",
       "      <th>inventor_name_middle</th>\n",
       "      <th>inventor_name_last</th>\n",
       "      <th>gender</th>\n",
       "      <th>inventor_rank</th>\n",
       "      <th>inventor_country_code</th>\n",
       "      <th>pat_no</th>\n",
       "      <th>claim_no</th>\n",
       "    </tr>\n",
       "  </thead>\n",
       "  <tbody>\n",
       "    <tr>\n",
       "      <th>0</th>\n",
       "      <td>9331991</td>\n",
       "      <td>2000-01-03</td>\n",
       "      <td>SEO</td>\n",
       "      <td>YOUNG</td>\n",
       "      <td>JEONG</td>\n",
       "      <td>andy</td>\n",
       "      <td>1.0</td>\n",
       "      <td>KR</td>\n",
       "      <td>6451348</td>\n",
       "      <td>NaN</td>\n",
       "    </tr>\n",
       "    <tr>\n",
       "      <th>1</th>\n",
       "      <td>9331991</td>\n",
       "      <td>2000-01-03</td>\n",
       "      <td>KUIWON</td>\n",
       "      <td>NaN</td>\n",
       "      <td>CHOI</td>\n",
       "      <td>unknown</td>\n",
       "      <td>2.0</td>\n",
       "      <td>KR</td>\n",
       "      <td>6451348</td>\n",
       "      <td>NaN</td>\n",
       "    </tr>\n",
       "    <tr>\n",
       "      <th>2</th>\n",
       "      <td>9331991</td>\n",
       "      <td>2000-01-03</td>\n",
       "      <td>ICK-CHAN</td>\n",
       "      <td>NaN</td>\n",
       "      <td>KWON</td>\n",
       "      <td>unknown</td>\n",
       "      <td>3.0</td>\n",
       "      <td>KR</td>\n",
       "      <td>6451348</td>\n",
       "      <td>NaN</td>\n",
       "    </tr>\n",
       "    <tr>\n",
       "      <th>3</th>\n",
       "      <td>9331991</td>\n",
       "      <td>2000-01-03</td>\n",
       "      <td>YONG-HEE</td>\n",
       "      <td>NaN</td>\n",
       "      <td>KIM</td>\n",
       "      <td>female</td>\n",
       "      <td>4.0</td>\n",
       "      <td>KR</td>\n",
       "      <td>6451348</td>\n",
       "      <td>NaN</td>\n",
       "    </tr>\n",
       "    <tr>\n",
       "      <th>4</th>\n",
       "      <td>9331991</td>\n",
       "      <td>2000-01-03</td>\n",
       "      <td>JAE</td>\n",
       "      <td>BONG</td>\n",
       "      <td>CHOI</td>\n",
       "      <td>andy</td>\n",
       "      <td>5.0</td>\n",
       "      <td>KR</td>\n",
       "      <td>6451348</td>\n",
       "      <td>NaN</td>\n",
       "    </tr>\n",
       "    <tr>\n",
       "      <th>...</th>\n",
       "      <td>...</td>\n",
       "      <td>...</td>\n",
       "      <td>...</td>\n",
       "      <td>...</td>\n",
       "      <td>...</td>\n",
       "      <td>...</td>\n",
       "      <td>...</td>\n",
       "      <td>...</td>\n",
       "      <td>...</td>\n",
       "      <td>...</td>\n",
       "    </tr>\n",
       "    <tr>\n",
       "      <th>1265321</th>\n",
       "      <td>17135301</td>\n",
       "      <td>2020-12-28</td>\n",
       "      <td>Sung An</td>\n",
       "      <td>NaN</td>\n",
       "      <td>GWEON</td>\n",
       "      <td>unknown</td>\n",
       "      <td>1.0</td>\n",
       "      <td>KR</td>\n",
       "      <td>10970633</td>\n",
       "      <td>NaN</td>\n",
       "    </tr>\n",
       "    <tr>\n",
       "      <th>1265322</th>\n",
       "      <td>17135301</td>\n",
       "      <td>2020-12-28</td>\n",
       "      <td>Yongjoong</td>\n",
       "      <td>NaN</td>\n",
       "      <td>KIM</td>\n",
       "      <td>unknown</td>\n",
       "      <td>2.0</td>\n",
       "      <td>KR</td>\n",
       "      <td>10970633</td>\n",
       "      <td>NaN</td>\n",
       "    </tr>\n",
       "    <tr>\n",
       "      <th>1265323</th>\n",
       "      <td>17135301</td>\n",
       "      <td>2020-12-28</td>\n",
       "      <td>Bongnam</td>\n",
       "      <td>NaN</td>\n",
       "      <td>KANG</td>\n",
       "      <td>unknown</td>\n",
       "      <td>3.0</td>\n",
       "      <td>KR</td>\n",
       "      <td>10970633</td>\n",
       "      <td>NaN</td>\n",
       "    </tr>\n",
       "    <tr>\n",
       "      <th>1265324</th>\n",
       "      <td>17135033</td>\n",
       "      <td>2020-12-28</td>\n",
       "      <td>Kye-Hyeon</td>\n",
       "      <td>NaN</td>\n",
       "      <td>KIM</td>\n",
       "      <td>unknown</td>\n",
       "      <td>1.0</td>\n",
       "      <td>KR</td>\n",
       "      <td>10970645</td>\n",
       "      <td>NaN</td>\n",
       "    </tr>\n",
       "    <tr>\n",
       "      <th>1265325</th>\n",
       "      <td>17135033</td>\n",
       "      <td>2020-12-28</td>\n",
       "      <td>Bongnam</td>\n",
       "      <td>NaN</td>\n",
       "      <td>KANG</td>\n",
       "      <td>unknown</td>\n",
       "      <td>2.0</td>\n",
       "      <td>KR</td>\n",
       "      <td>10970645</td>\n",
       "      <td>NaN</td>\n",
       "    </tr>\n",
       "  </tbody>\n",
       "</table>\n",
       "<p>1265326 rows × 10 columns</p>\n",
       "</div>"
      ],
      "text/plain": [
       "         application_number filing_date inventor_name_first  \\\n",
       "0                   9331991  2000-01-03                 SEO   \n",
       "1                   9331991  2000-01-03              KUIWON   \n",
       "2                   9331991  2000-01-03            ICK-CHAN   \n",
       "3                   9331991  2000-01-03            YONG-HEE   \n",
       "4                   9331991  2000-01-03                 JAE   \n",
       "...                     ...         ...                 ...   \n",
       "1265321            17135301  2020-12-28             Sung An   \n",
       "1265322            17135301  2020-12-28           Yongjoong   \n",
       "1265323            17135301  2020-12-28             Bongnam   \n",
       "1265324            17135033  2020-12-28           Kye-Hyeon   \n",
       "1265325            17135033  2020-12-28             Bongnam   \n",
       "\n",
       "        inventor_name_middle inventor_name_last   gender  inventor_rank  \\\n",
       "0                      YOUNG              JEONG     andy            1.0   \n",
       "1                        NaN               CHOI  unknown            2.0   \n",
       "2                        NaN               KWON  unknown            3.0   \n",
       "3                        NaN                KIM   female            4.0   \n",
       "4                       BONG               CHOI     andy            5.0   \n",
       "...                      ...                ...      ...            ...   \n",
       "1265321                  NaN              GWEON  unknown            1.0   \n",
       "1265322                  NaN                KIM  unknown            2.0   \n",
       "1265323                  NaN               KANG  unknown            3.0   \n",
       "1265324                  NaN                KIM  unknown            1.0   \n",
       "1265325                  NaN               KANG  unknown            2.0   \n",
       "\n",
       "        inventor_country_code    pat_no  claim_no  \n",
       "0                          KR   6451348       NaN  \n",
       "1                          KR   6451348       NaN  \n",
       "2                          KR   6451348       NaN  \n",
       "3                          KR   6451348       NaN  \n",
       "4                          KR   6451348       NaN  \n",
       "...                       ...       ...       ...  \n",
       "1265321                    KR  10970633       NaN  \n",
       "1265322                    KR  10970633       NaN  \n",
       "1265323                    KR  10970633       NaN  \n",
       "1265324                    KR  10970645       NaN  \n",
       "1265325                    KR  10970645       NaN  \n",
       "\n",
       "[1265326 rows x 10 columns]"
      ]
     },
     "execution_count": 2,
     "metadata": {},
     "output_type": "execute_result"
    }
   ],
   "source": [
    "df = pd.read_csv('inventors_filtered_by_cn_kr.csv')\n",
    "df"
   ]
  },
  {
   "cell_type": "code",
   "execution_count": 3,
   "metadata": {},
   "outputs": [
    {
     "data": {
      "text/plain": [
       "['정서영', '최귀원', '권익찬', '김용희', '최재봉', '이규백']"
      ]
     },
     "execution_count": 3,
     "metadata": {},
     "output_type": "execute_result"
    }
   ],
   "source": [
    "# first get the patent page\n",
    "def get_patent_page(patno, countryCode):\n",
    "    # check if patno starts with an alphabet\n",
    "    if not patno[0].isalpha():\n",
    "        patno = 'US' + patno\n",
    "    url = 'https://patents.google.com/patent/' + patno\n",
    "    page = requests.get(url)\n",
    "    soup = BeautifulSoup(page.content, 'html.parser')\n",
    "    return (soup, countryCode)\n",
    "\n",
    "# second find the corresponding patent number in the inventors' native country code (CN or KR)\n",
    "def get_patent_native(result):\n",
    "    soup = result[0]\n",
    "    countryCode = result[1]\n",
    "\n",
    "    patents_translated = soup.find_all('li', {'itemprop': 'applicationsByYear'})\n",
    "    patent_in_native = []\n",
    "    for i in patents_translated:\n",
    "        for a in i.find_all('a'):\n",
    "            patentNum = a['href'].split('/')[2]\n",
    "            if countryCode in patentNum:\n",
    "                patent_in_native.append(patentNum)\n",
    "    if patent_in_native:\n",
    "        return patent_in_native[0]\n",
    "    else:\n",
    "        return None\n",
    "\n",
    "# third get the inventors' names in the native language\n",
    "def get_patent_inventors(patent_native):\n",
    "    if patent_native:\n",
    "        soup = get_patent_page(patent_native, 'xx')[0]\n",
    "        return list(map(lambda x: x['content'], soup.find_all('meta', {'name': 'DC.contributor', 'scheme': 'inventor'})))\n",
    "    else:\n",
    "        return None\n",
    "\n",
    "get_patent_inventors('KR0181252B1')"
   ]
  },
  {
   "cell_type": "code",
   "execution_count": 15,
   "metadata": {},
   "outputs": [],
   "source": [
    "def get_patent(patno, countryCode):\n",
    "    # first get the patent page\n",
    "    if not patno[0].isalpha():\n",
    "        patno = 'US' + patno\n",
    "    url = 'https://patents.google.com/patent/' + patno\n",
    "    page = requests.get(url)\n",
    "    soup = BeautifulSoup(page.content, 'html.parser')\n",
    "\n",
    "    # second find the corresponding patent number in the inventors' native country code (CN or KR)\n",
    "    patents_translated = soup.find_all('li', {'itemprop': 'applicationsByYear'})\n",
    "    patent_in_native = []\n",
    "    for i in patents_translated:\n",
    "        for a in i.find_all('a'):\n",
    "            patentNum = a['href'].split('/')[2]\n",
    "            if countryCode in patentNum:\n",
    "                patent_in_native.append(patentNum)\n",
    "    if not patent_in_native:\n",
    "        return None\n",
    "    else:\n",
    "        # third get the inventors' names in the native language\n",
    "        soup = get_patent_page(patent_in_native[0], 'xx')[0]\n",
    "        inventors =  list(map(lambda x: x['content'], soup.find_all('meta', {'name': 'DC.contributor', 'scheme': 'inventor'})))\n",
    "        # append writers to a file with patno\n",
    "        with open('inventors_' + countryCode + '.txt', 'a') as f:\n",
    "            f.write(patno + ':' + ','.join(inventors) + '\\n')\n",
    "        return inventors"
   ]
  },
  {
   "cell_type": "code",
   "execution_count": 5,
   "metadata": {},
   "outputs": [
    {
     "data": {
      "text/html": [
       "<div>\n",
       "<style scoped>\n",
       "    .dataframe tbody tr th:only-of-type {\n",
       "        vertical-align: middle;\n",
       "    }\n",
       "\n",
       "    .dataframe tbody tr th {\n",
       "        vertical-align: top;\n",
       "    }\n",
       "\n",
       "    .dataframe thead th {\n",
       "        text-align: right;\n",
       "    }\n",
       "</style>\n",
       "<table border=\"1\" class=\"dataframe\">\n",
       "  <thead>\n",
       "    <tr style=\"text-align: right;\">\n",
       "      <th></th>\n",
       "      <th>pat_no</th>\n",
       "      <th>inventor_country_code</th>\n",
       "    </tr>\n",
       "  </thead>\n",
       "  <tbody>\n",
       "    <tr>\n",
       "      <th>0</th>\n",
       "      <td>6451348</td>\n",
       "      <td>KR</td>\n",
       "    </tr>\n",
       "    <tr>\n",
       "      <th>1</th>\n",
       "      <td>7197313</td>\n",
       "      <td>KR</td>\n",
       "    </tr>\n",
       "    <tr>\n",
       "      <th>2</th>\n",
       "      <td>6239641</td>\n",
       "      <td>KR</td>\n",
       "    </tr>\n",
       "    <tr>\n",
       "      <th>3</th>\n",
       "      <td>6396787</td>\n",
       "      <td>KR</td>\n",
       "    </tr>\n",
       "    <tr>\n",
       "      <th>4</th>\n",
       "      <td>6170758</td>\n",
       "      <td>KR</td>\n",
       "    </tr>\n",
       "    <tr>\n",
       "      <th>...</th>\n",
       "      <td>...</td>\n",
       "      <td>...</td>\n",
       "    </tr>\n",
       "    <tr>\n",
       "      <th>439949</th>\n",
       "      <td>D915475</td>\n",
       "      <td>CN</td>\n",
       "    </tr>\n",
       "    <tr>\n",
       "      <th>439950</th>\n",
       "      <td>D911457</td>\n",
       "      <td>CN</td>\n",
       "    </tr>\n",
       "    <tr>\n",
       "      <th>439951</th>\n",
       "      <td>D911456</td>\n",
       "      <td>CN</td>\n",
       "    </tr>\n",
       "    <tr>\n",
       "      <th>439952</th>\n",
       "      <td>10970633</td>\n",
       "      <td>KR</td>\n",
       "    </tr>\n",
       "    <tr>\n",
       "      <th>439953</th>\n",
       "      <td>10970645</td>\n",
       "      <td>KR</td>\n",
       "    </tr>\n",
       "  </tbody>\n",
       "</table>\n",
       "<p>439954 rows × 2 columns</p>\n",
       "</div>"
      ],
      "text/plain": [
       "          pat_no inventor_country_code\n",
       "0        6451348                    KR\n",
       "1        7197313                    KR\n",
       "2        6239641                    KR\n",
       "3        6396787                    KR\n",
       "4        6170758                    KR\n",
       "...          ...                   ...\n",
       "439949   D915475                    CN\n",
       "439950   D911457                    CN\n",
       "439951   D911456                    CN\n",
       "439952  10970633                    KR\n",
       "439953  10970645                    KR\n",
       "\n",
       "[439954 rows x 2 columns]"
      ]
     },
     "execution_count": 5,
     "metadata": {},
     "output_type": "execute_result"
    }
   ],
   "source": [
    "# get all unique pat_no in df and put them in a dataframe (using the first value to get the country code)\n",
    "unsorted = df.groupby('pat_no').first()[['inventor_country_code']].reset_index()\n",
    "all_patents = pd.DataFrame(df['pat_no'].unique(), columns=['pat_no'])\n",
    "all_patents = all_patents.merge(unsorted, on='pat_no', how='left')\n",
    "all_patents"
   ]
  },
  {
   "cell_type": "code",
   "execution_count": 9,
   "metadata": {},
   "outputs": [
    {
     "data": {
      "text/plain": [
       "0          [정서영, 최귀원, 권익찬, 김용희, 최재봉, 이규백]\n",
       "1                                   [손병철]\n",
       "2                                   [이중호]\n",
       "3                              [이석정, 이수웅]\n",
       "4                                   [이황우]\n",
       "5                         [어윤필, 강경호, 염정덕]\n",
       "6                                   [송기환]\n",
       "7                              [이준기, 하웅기]\n",
       "8           [이진서, 윤효중, 최강, 신재호, 남학현, 차근식]\n",
       "9                                    None\n",
       "10                                   None\n",
       "11                   [김병진, 서강수, 유제용, 강기원]\n",
       "12                                   None\n",
       "13                                   None\n",
       "14                             [김현이, 고영학]\n",
       "15                                   None\n",
       "16                                  [김점재]\n",
       "17                                  [정동진]\n",
       "18    [홍청일, 김정우, 이상준, 안순길, 최남송, 김계광, 정병선]\n",
       "19              [김훈식, 김재준, 이상득, 박건유, 김홍곤]\n",
       "dtype: object"
      ]
     },
     "execution_count": 9,
     "metadata": {},
     "output_type": "execute_result"
    }
   ],
   "source": [
    "# this works with the first 20.. but there's no way we're gonna handle this with the rest lmao (some pat_no are downright weird)\n",
    "temp = all_patents.head(20).apply(lambda x: get_patent_page(x.pat_no, x.inventor_country_code), axis=1).apply(get_patent_native).apply(get_patent_inventors)\n",
    "temp"
   ]
  },
  {
   "cell_type": "code",
   "execution_count": 17,
   "metadata": {},
   "outputs": [
    {
     "ename": "KeyboardInterrupt",
     "evalue": "",
     "output_type": "error",
     "traceback": [
      "\u001b[0;31m---------------------------------------------------------------------------\u001b[0m",
      "\u001b[0;31mKeyboardInterrupt\u001b[0m                         Traceback (most recent call last)",
      "Cell \u001b[0;32mIn [17], line 1\u001b[0m\n\u001b[0;32m----> 1\u001b[0m temp2 \u001b[39m=\u001b[39m all_patents\u001b[39m.\u001b[39;49mapply(\u001b[39mlambda\u001b[39;49;00m x: get_patent(x\u001b[39m.\u001b[39;49mpat_no, x\u001b[39m.\u001b[39;49minventor_country_code), axis\u001b[39m=\u001b[39;49m\u001b[39m1\u001b[39;49m)\n\u001b[1;32m      2\u001b[0m temp2\n",
      "File \u001b[0;32m~/.local/lib/python3.10/site-packages/pandas/core/frame.py:9558\u001b[0m, in \u001b[0;36mDataFrame.apply\u001b[0;34m(self, func, axis, raw, result_type, args, **kwargs)\u001b[0m\n\u001b[1;32m   9547\u001b[0m \u001b[39mfrom\u001b[39;00m \u001b[39mpandas\u001b[39;00m\u001b[39m.\u001b[39;00m\u001b[39mcore\u001b[39;00m\u001b[39m.\u001b[39;00m\u001b[39mapply\u001b[39;00m \u001b[39mimport\u001b[39;00m frame_apply\n\u001b[1;32m   9549\u001b[0m op \u001b[39m=\u001b[39m frame_apply(\n\u001b[1;32m   9550\u001b[0m     \u001b[39mself\u001b[39m,\n\u001b[1;32m   9551\u001b[0m     func\u001b[39m=\u001b[39mfunc,\n\u001b[0;32m   (...)\u001b[0m\n\u001b[1;32m   9556\u001b[0m     kwargs\u001b[39m=\u001b[39mkwargs,\n\u001b[1;32m   9557\u001b[0m )\n\u001b[0;32m-> 9558\u001b[0m \u001b[39mreturn\u001b[39;00m op\u001b[39m.\u001b[39;49mapply()\u001b[39m.\u001b[39m__finalize__(\u001b[39mself\u001b[39m, method\u001b[39m=\u001b[39m\u001b[39m\"\u001b[39m\u001b[39mapply\u001b[39m\u001b[39m\"\u001b[39m)\n",
      "File \u001b[0;32m~/.local/lib/python3.10/site-packages/pandas/core/apply.py:741\u001b[0m, in \u001b[0;36mFrameApply.apply\u001b[0;34m(self)\u001b[0m\n\u001b[1;32m    738\u001b[0m \u001b[39melif\u001b[39;00m \u001b[39mself\u001b[39m\u001b[39m.\u001b[39mraw:\n\u001b[1;32m    739\u001b[0m     \u001b[39mreturn\u001b[39;00m \u001b[39mself\u001b[39m\u001b[39m.\u001b[39mapply_raw()\n\u001b[0;32m--> 741\u001b[0m \u001b[39mreturn\u001b[39;00m \u001b[39mself\u001b[39;49m\u001b[39m.\u001b[39;49mapply_standard()\n",
      "File \u001b[0;32m~/.local/lib/python3.10/site-packages/pandas/core/apply.py:868\u001b[0m, in \u001b[0;36mFrameApply.apply_standard\u001b[0;34m(self)\u001b[0m\n\u001b[1;32m    867\u001b[0m \u001b[39mdef\u001b[39;00m \u001b[39mapply_standard\u001b[39m(\u001b[39mself\u001b[39m):\n\u001b[0;32m--> 868\u001b[0m     results, res_index \u001b[39m=\u001b[39m \u001b[39mself\u001b[39;49m\u001b[39m.\u001b[39;49mapply_series_generator()\n\u001b[1;32m    870\u001b[0m     \u001b[39m# wrap results\u001b[39;00m\n\u001b[1;32m    871\u001b[0m     \u001b[39mreturn\u001b[39;00m \u001b[39mself\u001b[39m\u001b[39m.\u001b[39mwrap_results(results, res_index)\n",
      "File \u001b[0;32m~/.local/lib/python3.10/site-packages/pandas/core/apply.py:884\u001b[0m, in \u001b[0;36mFrameApply.apply_series_generator\u001b[0;34m(self)\u001b[0m\n\u001b[1;32m    881\u001b[0m \u001b[39mwith\u001b[39;00m option_context(\u001b[39m\"\u001b[39m\u001b[39mmode.chained_assignment\u001b[39m\u001b[39m\"\u001b[39m, \u001b[39mNone\u001b[39;00m):\n\u001b[1;32m    882\u001b[0m     \u001b[39mfor\u001b[39;00m i, v \u001b[39min\u001b[39;00m \u001b[39menumerate\u001b[39m(series_gen):\n\u001b[1;32m    883\u001b[0m         \u001b[39m# ignore SettingWithCopy here in case the user mutates\u001b[39;00m\n\u001b[0;32m--> 884\u001b[0m         results[i] \u001b[39m=\u001b[39m \u001b[39mself\u001b[39;49m\u001b[39m.\u001b[39;49mf(v)\n\u001b[1;32m    885\u001b[0m         \u001b[39mif\u001b[39;00m \u001b[39misinstance\u001b[39m(results[i], ABCSeries):\n\u001b[1;32m    886\u001b[0m             \u001b[39m# If we have a view on v, we need to make a copy because\u001b[39;00m\n\u001b[1;32m    887\u001b[0m             \u001b[39m#  series_generator will swap out the underlying data\u001b[39;00m\n\u001b[1;32m    888\u001b[0m             results[i] \u001b[39m=\u001b[39m results[i]\u001b[39m.\u001b[39mcopy(deep\u001b[39m=\u001b[39m\u001b[39mFalse\u001b[39;00m)\n",
      "Cell \u001b[0;32mIn [17], line 1\u001b[0m, in \u001b[0;36m<lambda>\u001b[0;34m(x)\u001b[0m\n\u001b[0;32m----> 1\u001b[0m temp2 \u001b[39m=\u001b[39m all_patents\u001b[39m.\u001b[39mapply(\u001b[39mlambda\u001b[39;00m x: get_patent(x\u001b[39m.\u001b[39;49mpat_no, x\u001b[39m.\u001b[39;49minventor_country_code), axis\u001b[39m=\u001b[39m\u001b[39m1\u001b[39m)\n\u001b[1;32m      2\u001b[0m temp2\n",
      "Cell \u001b[0;32mIn [15], line 6\u001b[0m, in \u001b[0;36mget_patent\u001b[0;34m(patno, countryCode)\u001b[0m\n\u001b[1;32m      4\u001b[0m     patno \u001b[39m=\u001b[39m \u001b[39m'\u001b[39m\u001b[39mUS\u001b[39m\u001b[39m'\u001b[39m \u001b[39m+\u001b[39m patno\n\u001b[1;32m      5\u001b[0m url \u001b[39m=\u001b[39m \u001b[39m'\u001b[39m\u001b[39mhttps://patents.google.com/patent/\u001b[39m\u001b[39m'\u001b[39m \u001b[39m+\u001b[39m patno\n\u001b[0;32m----> 6\u001b[0m page \u001b[39m=\u001b[39m requests\u001b[39m.\u001b[39;49mget(url)\n\u001b[1;32m      7\u001b[0m soup \u001b[39m=\u001b[39m BeautifulSoup(page\u001b[39m.\u001b[39mcontent, \u001b[39m'\u001b[39m\u001b[39mhtml.parser\u001b[39m\u001b[39m'\u001b[39m)\n\u001b[1;32m      9\u001b[0m \u001b[39m# second find the corresponding patent number in the inventors' native country code (CN or KR)\u001b[39;00m\n",
      "File \u001b[0;32m/usr/lib/python3/dist-packages/requests/api.py:76\u001b[0m, in \u001b[0;36mget\u001b[0;34m(url, params, **kwargs)\u001b[0m\n\u001b[1;32m     65\u001b[0m \u001b[39mr\u001b[39m\u001b[39m\"\"\"Sends a GET request.\u001b[39;00m\n\u001b[1;32m     66\u001b[0m \n\u001b[1;32m     67\u001b[0m \u001b[39m:param url: URL for the new :class:`Request` object.\u001b[39;00m\n\u001b[0;32m   (...)\u001b[0m\n\u001b[1;32m     72\u001b[0m \u001b[39m:rtype: requests.Response\u001b[39;00m\n\u001b[1;32m     73\u001b[0m \u001b[39m\"\"\"\u001b[39;00m\n\u001b[1;32m     75\u001b[0m kwargs\u001b[39m.\u001b[39msetdefault(\u001b[39m'\u001b[39m\u001b[39mallow_redirects\u001b[39m\u001b[39m'\u001b[39m, \u001b[39mTrue\u001b[39;00m)\n\u001b[0;32m---> 76\u001b[0m \u001b[39mreturn\u001b[39;00m request(\u001b[39m'\u001b[39;49m\u001b[39mget\u001b[39;49m\u001b[39m'\u001b[39;49m, url, params\u001b[39m=\u001b[39;49mparams, \u001b[39m*\u001b[39;49m\u001b[39m*\u001b[39;49mkwargs)\n",
      "File \u001b[0;32m/usr/lib/python3/dist-packages/requests/api.py:61\u001b[0m, in \u001b[0;36mrequest\u001b[0;34m(method, url, **kwargs)\u001b[0m\n\u001b[1;32m     57\u001b[0m \u001b[39m# By using the 'with' statement we are sure the session is closed, thus we\u001b[39;00m\n\u001b[1;32m     58\u001b[0m \u001b[39m# avoid leaving sockets open which can trigger a ResourceWarning in some\u001b[39;00m\n\u001b[1;32m     59\u001b[0m \u001b[39m# cases, and look like a memory leak in others.\u001b[39;00m\n\u001b[1;32m     60\u001b[0m \u001b[39mwith\u001b[39;00m sessions\u001b[39m.\u001b[39mSession() \u001b[39mas\u001b[39;00m session:\n\u001b[0;32m---> 61\u001b[0m     \u001b[39mreturn\u001b[39;00m session\u001b[39m.\u001b[39;49mrequest(method\u001b[39m=\u001b[39;49mmethod, url\u001b[39m=\u001b[39;49murl, \u001b[39m*\u001b[39;49m\u001b[39m*\u001b[39;49mkwargs)\n",
      "File \u001b[0;32m/usr/lib/python3/dist-packages/requests/sessions.py:542\u001b[0m, in \u001b[0;36mSession.request\u001b[0;34m(self, method, url, params, data, headers, cookies, files, auth, timeout, allow_redirects, proxies, hooks, stream, verify, cert, json)\u001b[0m\n\u001b[1;32m    537\u001b[0m send_kwargs \u001b[39m=\u001b[39m {\n\u001b[1;32m    538\u001b[0m     \u001b[39m'\u001b[39m\u001b[39mtimeout\u001b[39m\u001b[39m'\u001b[39m: timeout,\n\u001b[1;32m    539\u001b[0m     \u001b[39m'\u001b[39m\u001b[39mallow_redirects\u001b[39m\u001b[39m'\u001b[39m: allow_redirects,\n\u001b[1;32m    540\u001b[0m }\n\u001b[1;32m    541\u001b[0m send_kwargs\u001b[39m.\u001b[39mupdate(settings)\n\u001b[0;32m--> 542\u001b[0m resp \u001b[39m=\u001b[39m \u001b[39mself\u001b[39;49m\u001b[39m.\u001b[39;49msend(prep, \u001b[39m*\u001b[39;49m\u001b[39m*\u001b[39;49msend_kwargs)\n\u001b[1;32m    544\u001b[0m \u001b[39mreturn\u001b[39;00m resp\n",
      "File \u001b[0;32m/usr/lib/python3/dist-packages/requests/sessions.py:655\u001b[0m, in \u001b[0;36mSession.send\u001b[0;34m(self, request, **kwargs)\u001b[0m\n\u001b[1;32m    652\u001b[0m start \u001b[39m=\u001b[39m preferred_clock()\n\u001b[1;32m    654\u001b[0m \u001b[39m# Send the request\u001b[39;00m\n\u001b[0;32m--> 655\u001b[0m r \u001b[39m=\u001b[39m adapter\u001b[39m.\u001b[39;49msend(request, \u001b[39m*\u001b[39;49m\u001b[39m*\u001b[39;49mkwargs)\n\u001b[1;32m    657\u001b[0m \u001b[39m# Total elapsed time of the request (approximately)\u001b[39;00m\n\u001b[1;32m    658\u001b[0m elapsed \u001b[39m=\u001b[39m preferred_clock() \u001b[39m-\u001b[39m start\n",
      "File \u001b[0;32m/usr/lib/python3/dist-packages/requests/adapters.py:439\u001b[0m, in \u001b[0;36mHTTPAdapter.send\u001b[0;34m(self, request, stream, timeout, verify, cert, proxies)\u001b[0m\n\u001b[1;32m    437\u001b[0m \u001b[39mtry\u001b[39;00m:\n\u001b[1;32m    438\u001b[0m     \u001b[39mif\u001b[39;00m \u001b[39mnot\u001b[39;00m chunked:\n\u001b[0;32m--> 439\u001b[0m         resp \u001b[39m=\u001b[39m conn\u001b[39m.\u001b[39;49murlopen(\n\u001b[1;32m    440\u001b[0m             method\u001b[39m=\u001b[39;49mrequest\u001b[39m.\u001b[39;49mmethod,\n\u001b[1;32m    441\u001b[0m             url\u001b[39m=\u001b[39;49murl,\n\u001b[1;32m    442\u001b[0m             body\u001b[39m=\u001b[39;49mrequest\u001b[39m.\u001b[39;49mbody,\n\u001b[1;32m    443\u001b[0m             headers\u001b[39m=\u001b[39;49mrequest\u001b[39m.\u001b[39;49mheaders,\n\u001b[1;32m    444\u001b[0m             redirect\u001b[39m=\u001b[39;49m\u001b[39mFalse\u001b[39;49;00m,\n\u001b[1;32m    445\u001b[0m             assert_same_host\u001b[39m=\u001b[39;49m\u001b[39mFalse\u001b[39;49;00m,\n\u001b[1;32m    446\u001b[0m             preload_content\u001b[39m=\u001b[39;49m\u001b[39mFalse\u001b[39;49;00m,\n\u001b[1;32m    447\u001b[0m             decode_content\u001b[39m=\u001b[39;49m\u001b[39mFalse\u001b[39;49;00m,\n\u001b[1;32m    448\u001b[0m             retries\u001b[39m=\u001b[39;49m\u001b[39mself\u001b[39;49m\u001b[39m.\u001b[39;49mmax_retries,\n\u001b[1;32m    449\u001b[0m             timeout\u001b[39m=\u001b[39;49mtimeout\n\u001b[1;32m    450\u001b[0m         )\n\u001b[1;32m    452\u001b[0m     \u001b[39m# Send the request.\u001b[39;00m\n\u001b[1;32m    453\u001b[0m     \u001b[39melse\u001b[39;00m:\n\u001b[1;32m    454\u001b[0m         \u001b[39mif\u001b[39;00m \u001b[39mhasattr\u001b[39m(conn, \u001b[39m'\u001b[39m\u001b[39mproxy_pool\u001b[39m\u001b[39m'\u001b[39m):\n",
      "File \u001b[0;32m/usr/lib/python3/dist-packages/urllib3/connectionpool.py:699\u001b[0m, in \u001b[0;36mHTTPConnectionPool.urlopen\u001b[0;34m(self, method, url, body, headers, retries, redirect, assert_same_host, timeout, pool_timeout, release_conn, chunked, body_pos, **response_kw)\u001b[0m\n\u001b[1;32m    696\u001b[0m     \u001b[39mself\u001b[39m\u001b[39m.\u001b[39m_prepare_proxy(conn)\n\u001b[1;32m    698\u001b[0m \u001b[39m# Make the request on the httplib connection object.\u001b[39;00m\n\u001b[0;32m--> 699\u001b[0m httplib_response \u001b[39m=\u001b[39m \u001b[39mself\u001b[39;49m\u001b[39m.\u001b[39;49m_make_request(\n\u001b[1;32m    700\u001b[0m     conn,\n\u001b[1;32m    701\u001b[0m     method,\n\u001b[1;32m    702\u001b[0m     url,\n\u001b[1;32m    703\u001b[0m     timeout\u001b[39m=\u001b[39;49mtimeout_obj,\n\u001b[1;32m    704\u001b[0m     body\u001b[39m=\u001b[39;49mbody,\n\u001b[1;32m    705\u001b[0m     headers\u001b[39m=\u001b[39;49mheaders,\n\u001b[1;32m    706\u001b[0m     chunked\u001b[39m=\u001b[39;49mchunked,\n\u001b[1;32m    707\u001b[0m )\n\u001b[1;32m    709\u001b[0m \u001b[39m# If we're going to release the connection in ``finally:``, then\u001b[39;00m\n\u001b[1;32m    710\u001b[0m \u001b[39m# the response doesn't need to know about the connection. Otherwise\u001b[39;00m\n\u001b[1;32m    711\u001b[0m \u001b[39m# it will also try to release it and we'll have a double-release\u001b[39;00m\n\u001b[1;32m    712\u001b[0m \u001b[39m# mess.\u001b[39;00m\n\u001b[1;32m    713\u001b[0m response_conn \u001b[39m=\u001b[39m conn \u001b[39mif\u001b[39;00m \u001b[39mnot\u001b[39;00m release_conn \u001b[39melse\u001b[39;00m \u001b[39mNone\u001b[39;00m\n",
      "File \u001b[0;32m/usr/lib/python3/dist-packages/urllib3/connectionpool.py:445\u001b[0m, in \u001b[0;36mHTTPConnectionPool._make_request\u001b[0;34m(self, conn, method, url, timeout, chunked, **httplib_request_kw)\u001b[0m\n\u001b[1;32m    440\u001b[0m             httplib_response \u001b[39m=\u001b[39m conn\u001b[39m.\u001b[39mgetresponse()\n\u001b[1;32m    441\u001b[0m         \u001b[39mexcept\u001b[39;00m \u001b[39mBaseException\u001b[39;00m \u001b[39mas\u001b[39;00m e:\n\u001b[1;32m    442\u001b[0m             \u001b[39m# Remove the TypeError from the exception chain in\u001b[39;00m\n\u001b[1;32m    443\u001b[0m             \u001b[39m# Python 3 (including for exceptions like SystemExit).\u001b[39;00m\n\u001b[1;32m    444\u001b[0m             \u001b[39m# Otherwise it looks like a bug in the code.\u001b[39;00m\n\u001b[0;32m--> 445\u001b[0m             six\u001b[39m.\u001b[39;49mraise_from(e, \u001b[39mNone\u001b[39;49;00m)\n\u001b[1;32m    446\u001b[0m \u001b[39mexcept\u001b[39;00m (SocketTimeout, BaseSSLError, SocketError) \u001b[39mas\u001b[39;00m e:\n\u001b[1;32m    447\u001b[0m     \u001b[39mself\u001b[39m\u001b[39m.\u001b[39m_raise_timeout(err\u001b[39m=\u001b[39me, url\u001b[39m=\u001b[39murl, timeout_value\u001b[39m=\u001b[39mread_timeout)\n",
      "File \u001b[0;32m<string>:3\u001b[0m, in \u001b[0;36mraise_from\u001b[0;34m(value, from_value)\u001b[0m\n",
      "File \u001b[0;32m/usr/lib/python3/dist-packages/urllib3/connectionpool.py:440\u001b[0m, in \u001b[0;36mHTTPConnectionPool._make_request\u001b[0;34m(self, conn, method, url, timeout, chunked, **httplib_request_kw)\u001b[0m\n\u001b[1;32m    437\u001b[0m \u001b[39mexcept\u001b[39;00m \u001b[39mTypeError\u001b[39;00m:\n\u001b[1;32m    438\u001b[0m     \u001b[39m# Python 3\u001b[39;00m\n\u001b[1;32m    439\u001b[0m     \u001b[39mtry\u001b[39;00m:\n\u001b[0;32m--> 440\u001b[0m         httplib_response \u001b[39m=\u001b[39m conn\u001b[39m.\u001b[39;49mgetresponse()\n\u001b[1;32m    441\u001b[0m     \u001b[39mexcept\u001b[39;00m \u001b[39mBaseException\u001b[39;00m \u001b[39mas\u001b[39;00m e:\n\u001b[1;32m    442\u001b[0m         \u001b[39m# Remove the TypeError from the exception chain in\u001b[39;00m\n\u001b[1;32m    443\u001b[0m         \u001b[39m# Python 3 (including for exceptions like SystemExit).\u001b[39;00m\n\u001b[1;32m    444\u001b[0m         \u001b[39m# Otherwise it looks like a bug in the code.\u001b[39;00m\n\u001b[1;32m    445\u001b[0m         six\u001b[39m.\u001b[39mraise_from(e, \u001b[39mNone\u001b[39;00m)\n",
      "File \u001b[0;32m/usr/lib/python3.10/http/client.py:1374\u001b[0m, in \u001b[0;36mHTTPConnection.getresponse\u001b[0;34m(self)\u001b[0m\n\u001b[1;32m   1372\u001b[0m \u001b[39mtry\u001b[39;00m:\n\u001b[1;32m   1373\u001b[0m     \u001b[39mtry\u001b[39;00m:\n\u001b[0;32m-> 1374\u001b[0m         response\u001b[39m.\u001b[39;49mbegin()\n\u001b[1;32m   1375\u001b[0m     \u001b[39mexcept\u001b[39;00m \u001b[39mConnectionError\u001b[39;00m:\n\u001b[1;32m   1376\u001b[0m         \u001b[39mself\u001b[39m\u001b[39m.\u001b[39mclose()\n",
      "File \u001b[0;32m/usr/lib/python3.10/http/client.py:318\u001b[0m, in \u001b[0;36mHTTPResponse.begin\u001b[0;34m(self)\u001b[0m\n\u001b[1;32m    316\u001b[0m \u001b[39m# read until we get a non-100 response\u001b[39;00m\n\u001b[1;32m    317\u001b[0m \u001b[39mwhile\u001b[39;00m \u001b[39mTrue\u001b[39;00m:\n\u001b[0;32m--> 318\u001b[0m     version, status, reason \u001b[39m=\u001b[39m \u001b[39mself\u001b[39;49m\u001b[39m.\u001b[39;49m_read_status()\n\u001b[1;32m    319\u001b[0m     \u001b[39mif\u001b[39;00m status \u001b[39m!=\u001b[39m CONTINUE:\n\u001b[1;32m    320\u001b[0m         \u001b[39mbreak\u001b[39;00m\n",
      "File \u001b[0;32m/usr/lib/python3.10/http/client.py:279\u001b[0m, in \u001b[0;36mHTTPResponse._read_status\u001b[0;34m(self)\u001b[0m\n\u001b[1;32m    278\u001b[0m \u001b[39mdef\u001b[39;00m \u001b[39m_read_status\u001b[39m(\u001b[39mself\u001b[39m):\n\u001b[0;32m--> 279\u001b[0m     line \u001b[39m=\u001b[39m \u001b[39mstr\u001b[39m(\u001b[39mself\u001b[39;49m\u001b[39m.\u001b[39;49mfp\u001b[39m.\u001b[39;49mreadline(_MAXLINE \u001b[39m+\u001b[39;49m \u001b[39m1\u001b[39;49m), \u001b[39m\"\u001b[39m\u001b[39miso-8859-1\u001b[39m\u001b[39m\"\u001b[39m)\n\u001b[1;32m    280\u001b[0m     \u001b[39mif\u001b[39;00m \u001b[39mlen\u001b[39m(line) \u001b[39m>\u001b[39m _MAXLINE:\n\u001b[1;32m    281\u001b[0m         \u001b[39mraise\u001b[39;00m LineTooLong(\u001b[39m\"\u001b[39m\u001b[39mstatus line\u001b[39m\u001b[39m\"\u001b[39m)\n",
      "File \u001b[0;32m/usr/lib/python3.10/socket.py:705\u001b[0m, in \u001b[0;36mSocketIO.readinto\u001b[0;34m(self, b)\u001b[0m\n\u001b[1;32m    703\u001b[0m \u001b[39mwhile\u001b[39;00m \u001b[39mTrue\u001b[39;00m:\n\u001b[1;32m    704\u001b[0m     \u001b[39mtry\u001b[39;00m:\n\u001b[0;32m--> 705\u001b[0m         \u001b[39mreturn\u001b[39;00m \u001b[39mself\u001b[39;49m\u001b[39m.\u001b[39;49m_sock\u001b[39m.\u001b[39;49mrecv_into(b)\n\u001b[1;32m    706\u001b[0m     \u001b[39mexcept\u001b[39;00m timeout:\n\u001b[1;32m    707\u001b[0m         \u001b[39mself\u001b[39m\u001b[39m.\u001b[39m_timeout_occurred \u001b[39m=\u001b[39m \u001b[39mTrue\u001b[39;00m\n",
      "File \u001b[0;32m/usr/lib/python3.10/ssl.py:1274\u001b[0m, in \u001b[0;36mSSLSocket.recv_into\u001b[0;34m(self, buffer, nbytes, flags)\u001b[0m\n\u001b[1;32m   1270\u001b[0m     \u001b[39mif\u001b[39;00m flags \u001b[39m!=\u001b[39m \u001b[39m0\u001b[39m:\n\u001b[1;32m   1271\u001b[0m         \u001b[39mraise\u001b[39;00m \u001b[39mValueError\u001b[39;00m(\n\u001b[1;32m   1272\u001b[0m           \u001b[39m\"\u001b[39m\u001b[39mnon-zero flags not allowed in calls to recv_into() on \u001b[39m\u001b[39m%s\u001b[39;00m\u001b[39m\"\u001b[39m \u001b[39m%\u001b[39m\n\u001b[1;32m   1273\u001b[0m           \u001b[39mself\u001b[39m\u001b[39m.\u001b[39m\u001b[39m__class__\u001b[39m)\n\u001b[0;32m-> 1274\u001b[0m     \u001b[39mreturn\u001b[39;00m \u001b[39mself\u001b[39;49m\u001b[39m.\u001b[39;49mread(nbytes, buffer)\n\u001b[1;32m   1275\u001b[0m \u001b[39melse\u001b[39;00m:\n\u001b[1;32m   1276\u001b[0m     \u001b[39mreturn\u001b[39;00m \u001b[39msuper\u001b[39m()\u001b[39m.\u001b[39mrecv_into(buffer, nbytes, flags)\n",
      "File \u001b[0;32m/usr/lib/python3.10/ssl.py:1130\u001b[0m, in \u001b[0;36mSSLSocket.read\u001b[0;34m(self, len, buffer)\u001b[0m\n\u001b[1;32m   1128\u001b[0m \u001b[39mtry\u001b[39;00m:\n\u001b[1;32m   1129\u001b[0m     \u001b[39mif\u001b[39;00m buffer \u001b[39mis\u001b[39;00m \u001b[39mnot\u001b[39;00m \u001b[39mNone\u001b[39;00m:\n\u001b[0;32m-> 1130\u001b[0m         \u001b[39mreturn\u001b[39;00m \u001b[39mself\u001b[39;49m\u001b[39m.\u001b[39;49m_sslobj\u001b[39m.\u001b[39;49mread(\u001b[39mlen\u001b[39;49m, buffer)\n\u001b[1;32m   1131\u001b[0m     \u001b[39melse\u001b[39;00m:\n\u001b[1;32m   1132\u001b[0m         \u001b[39mreturn\u001b[39;00m \u001b[39mself\u001b[39m\u001b[39m.\u001b[39m_sslobj\u001b[39m.\u001b[39mread(\u001b[39mlen\u001b[39m)\n",
      "\u001b[0;31mKeyboardInterrupt\u001b[0m: "
     ]
    }
   ],
   "source": [
    "temp2 = all_patents.apply(lambda x: get_patent(x.pat_no, x.inventor_country_code), axis=1)\n",
    "temp2"
   ]
  },
  {
   "cell_type": "code",
   "execution_count": 23,
   "metadata": {},
   "outputs": [
    {
     "name": "stdout",
     "output_type": "stream",
     "text": [
      "https://patents.google.com/patent/US6451348B1\n"
     ]
    },
    {
     "data": {
      "text/plain": [
       "'[{\"inventor_name\": \"Seo Young Jeong\"}, {\"inventor_name\": \"Kuiwon Choi\"}, {\"inventor_name\": \"Ick-Chan Kwon\"}, {\"inventor_name\": \"Yong-Hee Kim\"}, {\"inventor_name\": \"Jae Bong Choi\"}, {\"inventor_name\": \"Kyu Back Lee\"}]'"
      ]
     },
     "execution_count": 23,
     "metadata": {},
     "output_type": "execute_result"
    }
   ],
   "source": [
    "scraper = scraper_class()\n",
    "patent_1 = 'US6451348B1'\n",
    "\n",
    "err_1, soup_1, url_1 = scraper.request_single_patent(patent_1)\n",
    "patent_1_parsed = scraper.get_scraped_data(soup_1,patent_1,url_1)\n",
    "patent_1_parsed['inventor_name']"
   ]
  },
  {
   "cell_type": "code",
   "execution_count": 17,
   "metadata": {},
   "outputs": [
    {
     "name": "stdout",
     "output_type": "stream",
     "text": [
      "\"[{\\\"patent_number\\\": \\\"WO2004028589A2\\\", \\\"priority_date\\\": \\\"2002-09-26\\\", \\\"pub_date\\\": \\\"2004-04-08\\\"}, {\\\"patent_number\\\": \\\"US20050077221A1\\\", \\\"priority_date\\\": \\\"2002-01-02\\\", \\\"pub_date\\\": \\\"2005-04-14\\\"}, {\\\"patent_number\\\": \\\"WO2006014138A1\\\", \\\"priority_date\\\": \\\"2004-08-03\\\", \\\"pub_date\\\": \\\"2006-02-09\\\"}, {\\\"patent_number\\\": \\\"US20060088567A1\\\", \\\"priority_date\\\": \\\"2004-10-27\\\", \\\"pub_date\\\": \\\"2006-04-27\\\"}, {\\\"patent_number\\\": \\\"US20070104656A1\\\", \\\"priority_date\\\": \\\"1998-04-30\\\", \\\"pub_date\\\": \\\"2007-05-10\\\"}, {\\\"patent_number\\\": \\\"US20070172509A1\\\", \\\"priority_date\\\": \\\"2006-01-24\\\", \\\"pub_date\\\": \\\"2007-07-26\\\"}, {\\\"patent_number\\\": \\\"US20070225388A1\\\", \\\"priority_date\\\": \\\"2004-01-28\\\", \\\"pub_date\\\": \\\"2007-09-27\\\"}, {\\\"patent_number\\\": \\\"US20080194709A1\\\", \\\"priority_date\\\": \\\"2004-11-22\\\", \\\"pub_date\\\": \\\"2008-08-14\\\"}, {\\\"patent_number\\\": \\\"US20100048755A1\\\", \\\"priority_date\\\": \\\"2006-11-17\\\", \\\"pub_date\\\": \\\"2010-02-25\\\"}, {\\\"patent_number\\\": \\\"US20120225100A1\\\", \\\"priority_date\\\": \\\"2011-03-01\\\", \\\"pub_date\\\": \\\"2012-09-06\\\"}, {\\\"patent_number\\\": \\\"WO2013090891A1\\\", \\\"priority_date\\\": \\\"2011-12-16\\\", \\\"pub_date\\\": \\\"2013-06-20\\\"}, {\\\"patent_number\\\": \\\"US8513353B2\\\", \\\"priority_date\\\": \\\"2009-03-19\\\", \\\"pub_date\\\": \\\"2013-08-20\\\"}]\"\n"
     ]
    }
   ],
   "source": [
    "print(json.dumps(patent_1_parsed['forward_cite_no_family'], indent=4))"
   ]
  },
  {
   "cell_type": "code",
   "execution_count": 36,
   "metadata": {},
   "outputs": [
    {
     "name": "stdout",
     "output_type": "stream",
     "text": [
      "KR100381382B1\n",
      "KR100376083B1\n",
      "KR100429000B1\n"
     ]
    }
   ],
   "source": [
    "for key, value in patent_1_parsed.items():\n",
    "    if 'cite' in key:\n",
    "        for x in value[1:-1].split():\n",
    "            if \"KR\" in x:\n",
    "                print(x.replace('\"', '').replace(',', ''))"
   ]
  },
  {
   "cell_type": "code",
   "execution_count": 39,
   "metadata": {},
   "outputs": [
    {
     "name": "stdout",
     "output_type": "stream",
     "text": [
      "https://patents.google.com/patent/KR100429000B1\n"
     ]
    },
    {
     "data": {
      "text/plain": [
       "{'inventor_name': '[{\"inventor_name\": \"\\\\ubc15\\\\ud0dc\\\\uad00\"}, {\"inventor_name\": \"\\\\uc724\\\\uc900\\\\uc9c4\"}]',\n",
       " 'assignee_name_orig': '[{\"assignee_name\": \"\\\\ud55c\\\\uad6d\\\\uacfc\\\\ud559\\\\uae30\\\\uc220\\\\uc6d0\"}]',\n",
       " 'assignee_name_current': '[]',\n",
       " 'pub_date': '2003-02-20',\n",
       " 'priority_date': '2001-08-14',\n",
       " 'grant_date': '2004-04-28',\n",
       " 'filing_date': '',\n",
       " 'forward_cite_no_family': '[{\"patent_number\": \"KR100977094B1\", \"priority_date\": \"2009-07-13\", \"pub_date\": \"2010-08-19\"}]',\n",
       " 'forward_cite_yes_family': '[{\"patent_number\": \"EP1553129B2\", \"priority_date\": \"2004-01-08\", \"pub_date\": \"2014-07-23\"}, {\"patent_number\": \"KR100840394B1\", \"priority_date\": \"2007-02-12\", \"pub_date\": \"2008-06-23\"}, {\"patent_number\": \"KR101265783B1\", \"priority_date\": \"2011-09-28\", \"pub_date\": \"2013-05-20\"}, {\"patent_number\": \"KR101725279B1\", \"priority_date\": \"2015-10-27\", \"pub_date\": \"2017-04-10\"}]',\n",
       " 'backward_cite_no_family': '[{\"patent_number\": \"JPS61249920A\", \"priority_date\": \"1985-04-27\", \"pub_date\": \"1986-11-07\"}, {\"patent_number\": \"US4806358A\", \"priority_date\": \"1985-11-15\", \"pub_date\": \"1989-02-21\"}, {\"patent_number\": \"US5514378A\", \"priority_date\": \"1993-02-01\", \"pub_date\": \"1996-05-07\"}, {\"patent_number\": \"KR19980063026A\", \"priority_date\": \"1996-12-31\", \"pub_date\": \"1998-10-07\"}, {\"patent_number\": \"KR20000060718A\", \"priority_date\": \"1999-03-18\", \"pub_date\": \"2000-10-16\"}, {\"patent_number\": \"KR20010046841A\", \"priority_date\": \"1999-11-16\", \"pub_date\": \"2001-06-15\"}]',\n",
       " 'backward_cite_yes_family': '[]',\n",
       " 'abstract_text': '',\n",
       " 'url': 'https://patents.google.com/patent/KR100429000B1',\n",
       " 'patent': 'KR100429000B1'}"
      ]
     },
     "execution_count": 39,
     "metadata": {},
     "output_type": "execute_result"
    }
   ],
   "source": [
    "patent_2 = 'KR100429000B1'\n",
    "\n",
    "err_2, soup_2, url_2 = scraper.request_single_patent(patent_2)\n",
    "patent_2_parsed = scraper.get_scraped_data(soup_2,patent_2,url_2)\n",
    "patent_2_parsed"
   ]
  },
  {
   "cell_type": "code",
   "execution_count": 40,
   "metadata": {},
   "outputs": [
    {
     "data": {
      "text/plain": [
       "'[{\"inventor_name\": \"\\\\ubc15\\\\ud0dc\\\\uad00\"}, {\"inventor_name\": \"\\\\uc724\\\\uc900\\\\uc9c4\"}]'"
      ]
     },
     "execution_count": 40,
     "metadata": {},
     "output_type": "execute_result"
    }
   ],
   "source": [
    "patent_2_parsed['inventor_name']"
   ]
  },
  {
   "cell_type": "code",
   "execution_count": 59,
   "metadata": {},
   "outputs": [
    {
     "name": "stdout",
     "output_type": "stream",
     "text": [
      "박태관\n"
     ]
    }
   ],
   "source": [
    "x = b\"\\\\ubc15\\\\ud0dc\\\\uad00\"\n",
    "print(x.decode(\"unicode_escape\"))"
   ]
  },
  {
   "cell_type": "code",
   "execution_count": 52,
   "metadata": {},
   "outputs": [
    {
     "name": "stdout",
     "output_type": "stream",
     "text": [
      "ㅎㅇ\n"
     ]
    }
   ],
   "source": [
    "print('ㅎㅇ')"
   ]
  },
  {
   "cell_type": "code",
   "execution_count": null,
   "metadata": {},
   "outputs": [],
   "source": []
  }
 ],
 "metadata": {
  "kernelspec": {
   "display_name": "Python 3.10.6 64-bit",
   "language": "python",
   "name": "python3"
  },
  "language_info": {
   "codemirror_mode": {
    "name": "ipython",
    "version": 3
   },
   "file_extension": ".py",
   "mimetype": "text/x-python",
   "name": "python",
   "nbconvert_exporter": "python",
   "pygments_lexer": "ipython3",
   "version": "3.10.6"
  },
  "orig_nbformat": 4,
  "vscode": {
   "interpreter": {
    "hash": "916dbcbb3f70747c44a77c7bcd40155683ae19c65e1c03b4aa3499c5328201f1"
   }
  }
 },
 "nbformat": 4,
 "nbformat_minor": 2
}
