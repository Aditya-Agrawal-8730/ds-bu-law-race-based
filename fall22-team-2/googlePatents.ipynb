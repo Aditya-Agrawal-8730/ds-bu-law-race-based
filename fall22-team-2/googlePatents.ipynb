{
 "cells": [
  {
   "cell_type": "code",
   "execution_count": 5,
   "metadata": {},
   "outputs": [],
   "source": [
    "import pandas as pd\n",
    "import numpy as np\n",
    "from google_patent_scraper import scraper_class\n",
    "import json\n",
    "from bs4 import BeautifulSoup\n",
    "import requests"
   ]
  },
  {
   "cell_type": "code",
   "execution_count": 2,
   "metadata": {},
   "outputs": [
    {
     "data": {
      "text/html": [
       "<div>\n",
       "<style scoped>\n",
       "    .dataframe tbody tr th:only-of-type {\n",
       "        vertical-align: middle;\n",
       "    }\n",
       "\n",
       "    .dataframe tbody tr th {\n",
       "        vertical-align: top;\n",
       "    }\n",
       "\n",
       "    .dataframe thead th {\n",
       "        text-align: right;\n",
       "    }\n",
       "</style>\n",
       "<table border=\"1\" class=\"dataframe\">\n",
       "  <thead>\n",
       "    <tr style=\"text-align: right;\">\n",
       "      <th></th>\n",
       "      <th>application_number</th>\n",
       "      <th>filing_date</th>\n",
       "      <th>inventor_name_first</th>\n",
       "      <th>inventor_name_middle</th>\n",
       "      <th>inventor_name_last</th>\n",
       "      <th>gender</th>\n",
       "      <th>inventor_rank</th>\n",
       "      <th>inventor_country_code</th>\n",
       "      <th>pat_no</th>\n",
       "      <th>claim_no</th>\n",
       "    </tr>\n",
       "  </thead>\n",
       "  <tbody>\n",
       "    <tr>\n",
       "      <th>0</th>\n",
       "      <td>9331991</td>\n",
       "      <td>2000-01-03</td>\n",
       "      <td>SEO</td>\n",
       "      <td>YOUNG</td>\n",
       "      <td>JEONG</td>\n",
       "      <td>andy</td>\n",
       "      <td>1.0</td>\n",
       "      <td>KR</td>\n",
       "      <td>6451348</td>\n",
       "      <td>NaN</td>\n",
       "    </tr>\n",
       "    <tr>\n",
       "      <th>1</th>\n",
       "      <td>9331991</td>\n",
       "      <td>2000-01-03</td>\n",
       "      <td>KUIWON</td>\n",
       "      <td>NaN</td>\n",
       "      <td>CHOI</td>\n",
       "      <td>unknown</td>\n",
       "      <td>2.0</td>\n",
       "      <td>KR</td>\n",
       "      <td>6451348</td>\n",
       "      <td>NaN</td>\n",
       "    </tr>\n",
       "    <tr>\n",
       "      <th>2</th>\n",
       "      <td>9331991</td>\n",
       "      <td>2000-01-03</td>\n",
       "      <td>ICK-CHAN</td>\n",
       "      <td>NaN</td>\n",
       "      <td>KWON</td>\n",
       "      <td>unknown</td>\n",
       "      <td>3.0</td>\n",
       "      <td>KR</td>\n",
       "      <td>6451348</td>\n",
       "      <td>NaN</td>\n",
       "    </tr>\n",
       "    <tr>\n",
       "      <th>3</th>\n",
       "      <td>9331991</td>\n",
       "      <td>2000-01-03</td>\n",
       "      <td>YONG-HEE</td>\n",
       "      <td>NaN</td>\n",
       "      <td>KIM</td>\n",
       "      <td>female</td>\n",
       "      <td>4.0</td>\n",
       "      <td>KR</td>\n",
       "      <td>6451348</td>\n",
       "      <td>NaN</td>\n",
       "    </tr>\n",
       "    <tr>\n",
       "      <th>4</th>\n",
       "      <td>9331991</td>\n",
       "      <td>2000-01-03</td>\n",
       "      <td>JAE</td>\n",
       "      <td>BONG</td>\n",
       "      <td>CHOI</td>\n",
       "      <td>andy</td>\n",
       "      <td>5.0</td>\n",
       "      <td>KR</td>\n",
       "      <td>6451348</td>\n",
       "      <td>NaN</td>\n",
       "    </tr>\n",
       "    <tr>\n",
       "      <th>...</th>\n",
       "      <td>...</td>\n",
       "      <td>...</td>\n",
       "      <td>...</td>\n",
       "      <td>...</td>\n",
       "      <td>...</td>\n",
       "      <td>...</td>\n",
       "      <td>...</td>\n",
       "      <td>...</td>\n",
       "      <td>...</td>\n",
       "      <td>...</td>\n",
       "    </tr>\n",
       "    <tr>\n",
       "      <th>1265321</th>\n",
       "      <td>17135301</td>\n",
       "      <td>2020-12-28</td>\n",
       "      <td>Sung An</td>\n",
       "      <td>NaN</td>\n",
       "      <td>GWEON</td>\n",
       "      <td>unknown</td>\n",
       "      <td>1.0</td>\n",
       "      <td>KR</td>\n",
       "      <td>10970633</td>\n",
       "      <td>NaN</td>\n",
       "    </tr>\n",
       "    <tr>\n",
       "      <th>1265322</th>\n",
       "      <td>17135301</td>\n",
       "      <td>2020-12-28</td>\n",
       "      <td>Yongjoong</td>\n",
       "      <td>NaN</td>\n",
       "      <td>KIM</td>\n",
       "      <td>unknown</td>\n",
       "      <td>2.0</td>\n",
       "      <td>KR</td>\n",
       "      <td>10970633</td>\n",
       "      <td>NaN</td>\n",
       "    </tr>\n",
       "    <tr>\n",
       "      <th>1265323</th>\n",
       "      <td>17135301</td>\n",
       "      <td>2020-12-28</td>\n",
       "      <td>Bongnam</td>\n",
       "      <td>NaN</td>\n",
       "      <td>KANG</td>\n",
       "      <td>unknown</td>\n",
       "      <td>3.0</td>\n",
       "      <td>KR</td>\n",
       "      <td>10970633</td>\n",
       "      <td>NaN</td>\n",
       "    </tr>\n",
       "    <tr>\n",
       "      <th>1265324</th>\n",
       "      <td>17135033</td>\n",
       "      <td>2020-12-28</td>\n",
       "      <td>Kye-Hyeon</td>\n",
       "      <td>NaN</td>\n",
       "      <td>KIM</td>\n",
       "      <td>unknown</td>\n",
       "      <td>1.0</td>\n",
       "      <td>KR</td>\n",
       "      <td>10970645</td>\n",
       "      <td>NaN</td>\n",
       "    </tr>\n",
       "    <tr>\n",
       "      <th>1265325</th>\n",
       "      <td>17135033</td>\n",
       "      <td>2020-12-28</td>\n",
       "      <td>Bongnam</td>\n",
       "      <td>NaN</td>\n",
       "      <td>KANG</td>\n",
       "      <td>unknown</td>\n",
       "      <td>2.0</td>\n",
       "      <td>KR</td>\n",
       "      <td>10970645</td>\n",
       "      <td>NaN</td>\n",
       "    </tr>\n",
       "  </tbody>\n",
       "</table>\n",
       "<p>1265326 rows × 10 columns</p>\n",
       "</div>"
      ],
      "text/plain": [
       "         application_number filing_date inventor_name_first  \\\n",
       "0                   9331991  2000-01-03                 SEO   \n",
       "1                   9331991  2000-01-03              KUIWON   \n",
       "2                   9331991  2000-01-03            ICK-CHAN   \n",
       "3                   9331991  2000-01-03            YONG-HEE   \n",
       "4                   9331991  2000-01-03                 JAE   \n",
       "...                     ...         ...                 ...   \n",
       "1265321            17135301  2020-12-28             Sung An   \n",
       "1265322            17135301  2020-12-28           Yongjoong   \n",
       "1265323            17135301  2020-12-28             Bongnam   \n",
       "1265324            17135033  2020-12-28           Kye-Hyeon   \n",
       "1265325            17135033  2020-12-28             Bongnam   \n",
       "\n",
       "        inventor_name_middle inventor_name_last   gender  inventor_rank  \\\n",
       "0                      YOUNG              JEONG     andy            1.0   \n",
       "1                        NaN               CHOI  unknown            2.0   \n",
       "2                        NaN               KWON  unknown            3.0   \n",
       "3                        NaN                KIM   female            4.0   \n",
       "4                       BONG               CHOI     andy            5.0   \n",
       "...                      ...                ...      ...            ...   \n",
       "1265321                  NaN              GWEON  unknown            1.0   \n",
       "1265322                  NaN                KIM  unknown            2.0   \n",
       "1265323                  NaN               KANG  unknown            3.0   \n",
       "1265324                  NaN                KIM  unknown            1.0   \n",
       "1265325                  NaN               KANG  unknown            2.0   \n",
       "\n",
       "        inventor_country_code    pat_no  claim_no  \n",
       "0                          KR   6451348       NaN  \n",
       "1                          KR   6451348       NaN  \n",
       "2                          KR   6451348       NaN  \n",
       "3                          KR   6451348       NaN  \n",
       "4                          KR   6451348       NaN  \n",
       "...                       ...       ...       ...  \n",
       "1265321                    KR  10970633       NaN  \n",
       "1265322                    KR  10970633       NaN  \n",
       "1265323                    KR  10970633       NaN  \n",
       "1265324                    KR  10970645       NaN  \n",
       "1265325                    KR  10970645       NaN  \n",
       "\n",
       "[1265326 rows x 10 columns]"
      ]
     },
     "execution_count": 2,
     "metadata": {},
     "output_type": "execute_result"
    }
   ],
   "source": [
    "df = pd.read_csv('inventors_filtered_by_cn_kr.csv')\n",
    "df"
   ]
  },
  {
   "cell_type": "code",
   "execution_count": 96,
   "metadata": {},
   "outputs": [
    {
     "data": {
      "text/plain": [
       "['정서영', '최귀원', '권익찬', '김용희', '최재봉', '이규백']"
      ]
     },
     "execution_count": 96,
     "metadata": {},
     "output_type": "execute_result"
    }
   ],
   "source": [
    "# first get the patent page\n",
    "def get_patent_page(patno, countryCode):\n",
    "    # check if patno starts with an alphabet\n",
    "    if not patno[0].isalpha():\n",
    "        patno = 'US' + patno\n",
    "    url = 'https://patents.google.com/patent/' + patno\n",
    "    page = requests.get(url)\n",
    "    soup = BeautifulSoup(page.content, 'html.parser')\n",
    "    return (soup, countryCode)\n",
    "\n",
    "# second find the corresponding patent number in the inventors' native country code (CN or KR)\n",
    "def get_patent_native(result):\n",
    "    soup = result[0]\n",
    "    countryCode = result[1]\n",
    "\n",
    "    patents_translated = soup.find_all('li', {'itemprop': 'applicationsByYear'})\n",
    "    patent_in_native = []\n",
    "    for i in patents_translated:\n",
    "        for a in i.find_all('a'):\n",
    "            patentNum = a['href'].split('/')[2]\n",
    "            if countryCode in patentNum:\n",
    "                patent_in_native.append(patentNum)\n",
    "    if patent_in_native:\n",
    "        return patent_in_native[0]\n",
    "    else:\n",
    "        return None\n",
    "\n",
    "# third get the inventors' names in the native language\n",
    "def get_patent_inventors(patent_native):\n",
    "    if patent_native:\n",
    "        soup = get_patent_page(patent_native, 'xx')[0]\n",
    "        return list(map(lambda x: x['content'], soup.find_all('meta', {'name': 'DC.contributor', 'scheme': 'inventor'})))\n",
    "    else:\n",
    "        return None\n",
    "\n",
    "get_patent_inventors('KR0181252B1')"
   ]
  },
  {
   "cell_type": "code",
   "execution_count": 84,
   "metadata": {},
   "outputs": [
    {
     "data": {
      "text/html": [
       "<div>\n",
       "<style scoped>\n",
       "    .dataframe tbody tr th:only-of-type {\n",
       "        vertical-align: middle;\n",
       "    }\n",
       "\n",
       "    .dataframe tbody tr th {\n",
       "        vertical-align: top;\n",
       "    }\n",
       "\n",
       "    .dataframe thead th {\n",
       "        text-align: right;\n",
       "    }\n",
       "</style>\n",
       "<table border=\"1\" class=\"dataframe\">\n",
       "  <thead>\n",
       "    <tr style=\"text-align: right;\">\n",
       "      <th></th>\n",
       "      <th>pat_no</th>\n",
       "      <th>inventor_country_code</th>\n",
       "    </tr>\n",
       "  </thead>\n",
       "  <tbody>\n",
       "    <tr>\n",
       "      <th>0</th>\n",
       "      <td>6451348</td>\n",
       "      <td>KR</td>\n",
       "    </tr>\n",
       "    <tr>\n",
       "      <th>1</th>\n",
       "      <td>7197313</td>\n",
       "      <td>KR</td>\n",
       "    </tr>\n",
       "    <tr>\n",
       "      <th>2</th>\n",
       "      <td>6239641</td>\n",
       "      <td>KR</td>\n",
       "    </tr>\n",
       "    <tr>\n",
       "      <th>3</th>\n",
       "      <td>6396787</td>\n",
       "      <td>KR</td>\n",
       "    </tr>\n",
       "    <tr>\n",
       "      <th>4</th>\n",
       "      <td>6170758</td>\n",
       "      <td>KR</td>\n",
       "    </tr>\n",
       "    <tr>\n",
       "      <th>...</th>\n",
       "      <td>...</td>\n",
       "      <td>...</td>\n",
       "    </tr>\n",
       "    <tr>\n",
       "      <th>439949</th>\n",
       "      <td>D915475</td>\n",
       "      <td>CN</td>\n",
       "    </tr>\n",
       "    <tr>\n",
       "      <th>439950</th>\n",
       "      <td>D911457</td>\n",
       "      <td>CN</td>\n",
       "    </tr>\n",
       "    <tr>\n",
       "      <th>439951</th>\n",
       "      <td>D911456</td>\n",
       "      <td>CN</td>\n",
       "    </tr>\n",
       "    <tr>\n",
       "      <th>439952</th>\n",
       "      <td>10970633</td>\n",
       "      <td>KR</td>\n",
       "    </tr>\n",
       "    <tr>\n",
       "      <th>439953</th>\n",
       "      <td>10970645</td>\n",
       "      <td>KR</td>\n",
       "    </tr>\n",
       "  </tbody>\n",
       "</table>\n",
       "<p>439954 rows × 2 columns</p>\n",
       "</div>"
      ],
      "text/plain": [
       "          pat_no inventor_country_code\n",
       "0        6451348                    KR\n",
       "1        7197313                    KR\n",
       "2        6239641                    KR\n",
       "3        6396787                    KR\n",
       "4        6170758                    KR\n",
       "...          ...                   ...\n",
       "439949   D915475                    CN\n",
       "439950   D911457                    CN\n",
       "439951   D911456                    CN\n",
       "439952  10970633                    KR\n",
       "439953  10970645                    KR\n",
       "\n",
       "[439954 rows x 2 columns]"
      ]
     },
     "execution_count": 84,
     "metadata": {},
     "output_type": "execute_result"
    }
   ],
   "source": [
    "# get all unique pat_no in df and put them in a dataframe (using the first value to get the country code)\n",
    "unsorted = df.groupby('pat_no').first()[['inventor_country_code']].reset_index()\n",
    "all_patents = pd.DataFrame(df['pat_no'].unique(), columns=['pat_no'])\n",
    "all_patents = all_patents.merge(unsorted, on='pat_no', how='left')\n",
    "all_patents"
   ]
  },
  {
   "cell_type": "code",
   "execution_count": 97,
   "metadata": {},
   "outputs": [
    {
     "data": {
      "text/plain": [
       "0          [정서영, 최귀원, 권익찬, 김용희, 최재봉, 이규백]\n",
       "1                                   [손병철]\n",
       "2                                   [이중호]\n",
       "3                              [이석정, 이수웅]\n",
       "4                                   [이황우]\n",
       "5                         [어윤필, 강경호, 염정덕]\n",
       "6                                   [송기환]\n",
       "7                              [이준기, 하웅기]\n",
       "8           [이진서, 윤효중, 최강, 신재호, 남학현, 차근식]\n",
       "9                                    None\n",
       "10                                   None\n",
       "11                   [김병진, 서강수, 유제용, 강기원]\n",
       "12                                   None\n",
       "13                                   None\n",
       "14                             [김현이, 고영학]\n",
       "15                                   None\n",
       "16                                  [김점재]\n",
       "17                                  [정동진]\n",
       "18    [홍청일, 김정우, 이상준, 안순길, 최남송, 김계광, 정병선]\n",
       "19              [김훈식, 김재준, 이상득, 박건유, 김홍곤]\n",
       "dtype: object"
      ]
     },
     "execution_count": 97,
     "metadata": {},
     "output_type": "execute_result"
    }
   ],
   "source": [
    "# this works with the first 20.. but there's no way we're gonna handle this with the rest lmao (some pat_no are downright weird)\n",
    "temp = all_patents.head(20).apply(lambda x: get_patent_page(x.pat_no, x.inventor_country_code), axis=1).apply(get_patent_native).apply(get_patent_inventors)\n",
    "temp"
   ]
  },
  {
   "cell_type": "code",
   "execution_count": 23,
   "metadata": {},
   "outputs": [
    {
     "name": "stdout",
     "output_type": "stream",
     "text": [
      "https://patents.google.com/patent/US6451348B1\n"
     ]
    },
    {
     "data": {
      "text/plain": [
       "'[{\"inventor_name\": \"Seo Young Jeong\"}, {\"inventor_name\": \"Kuiwon Choi\"}, {\"inventor_name\": \"Ick-Chan Kwon\"}, {\"inventor_name\": \"Yong-Hee Kim\"}, {\"inventor_name\": \"Jae Bong Choi\"}, {\"inventor_name\": \"Kyu Back Lee\"}]'"
      ]
     },
     "execution_count": 23,
     "metadata": {},
     "output_type": "execute_result"
    }
   ],
   "source": [
    "scraper = scraper_class()\n",
    "patent_1 = 'US6451348B1'\n",
    "\n",
    "err_1, soup_1, url_1 = scraper.request_single_patent(patent_1)\n",
    "patent_1_parsed = scraper.get_scraped_data(soup_1,patent_1,url_1)\n",
    "patent_1_parsed['inventor_name']"
   ]
  },
  {
   "cell_type": "code",
   "execution_count": 17,
   "metadata": {},
   "outputs": [
    {
     "name": "stdout",
     "output_type": "stream",
     "text": [
      "\"[{\\\"patent_number\\\": \\\"WO2004028589A2\\\", \\\"priority_date\\\": \\\"2002-09-26\\\", \\\"pub_date\\\": \\\"2004-04-08\\\"}, {\\\"patent_number\\\": \\\"US20050077221A1\\\", \\\"priority_date\\\": \\\"2002-01-02\\\", \\\"pub_date\\\": \\\"2005-04-14\\\"}, {\\\"patent_number\\\": \\\"WO2006014138A1\\\", \\\"priority_date\\\": \\\"2004-08-03\\\", \\\"pub_date\\\": \\\"2006-02-09\\\"}, {\\\"patent_number\\\": \\\"US20060088567A1\\\", \\\"priority_date\\\": \\\"2004-10-27\\\", \\\"pub_date\\\": \\\"2006-04-27\\\"}, {\\\"patent_number\\\": \\\"US20070104656A1\\\", \\\"priority_date\\\": \\\"1998-04-30\\\", \\\"pub_date\\\": \\\"2007-05-10\\\"}, {\\\"patent_number\\\": \\\"US20070172509A1\\\", \\\"priority_date\\\": \\\"2006-01-24\\\", \\\"pub_date\\\": \\\"2007-07-26\\\"}, {\\\"patent_number\\\": \\\"US20070225388A1\\\", \\\"priority_date\\\": \\\"2004-01-28\\\", \\\"pub_date\\\": \\\"2007-09-27\\\"}, {\\\"patent_number\\\": \\\"US20080194709A1\\\", \\\"priority_date\\\": \\\"2004-11-22\\\", \\\"pub_date\\\": \\\"2008-08-14\\\"}, {\\\"patent_number\\\": \\\"US20100048755A1\\\", \\\"priority_date\\\": \\\"2006-11-17\\\", \\\"pub_date\\\": \\\"2010-02-25\\\"}, {\\\"patent_number\\\": \\\"US20120225100A1\\\", \\\"priority_date\\\": \\\"2011-03-01\\\", \\\"pub_date\\\": \\\"2012-09-06\\\"}, {\\\"patent_number\\\": \\\"WO2013090891A1\\\", \\\"priority_date\\\": \\\"2011-12-16\\\", \\\"pub_date\\\": \\\"2013-06-20\\\"}, {\\\"patent_number\\\": \\\"US8513353B2\\\", \\\"priority_date\\\": \\\"2009-03-19\\\", \\\"pub_date\\\": \\\"2013-08-20\\\"}]\"\n"
     ]
    }
   ],
   "source": [
    "print(json.dumps(patent_1_parsed['forward_cite_no_family'], indent=4))"
   ]
  },
  {
   "cell_type": "code",
   "execution_count": 36,
   "metadata": {},
   "outputs": [
    {
     "name": "stdout",
     "output_type": "stream",
     "text": [
      "KR100381382B1\n",
      "KR100376083B1\n",
      "KR100429000B1\n"
     ]
    }
   ],
   "source": [
    "for key, value in patent_1_parsed.items():\n",
    "    if 'cite' in key:\n",
    "        for x in value[1:-1].split():\n",
    "            if \"KR\" in x:\n",
    "                print(x.replace('\"', '').replace(',', ''))"
   ]
  },
  {
   "cell_type": "code",
   "execution_count": 39,
   "metadata": {},
   "outputs": [
    {
     "name": "stdout",
     "output_type": "stream",
     "text": [
      "https://patents.google.com/patent/KR100429000B1\n"
     ]
    },
    {
     "data": {
      "text/plain": [
       "{'inventor_name': '[{\"inventor_name\": \"\\\\ubc15\\\\ud0dc\\\\uad00\"}, {\"inventor_name\": \"\\\\uc724\\\\uc900\\\\uc9c4\"}]',\n",
       " 'assignee_name_orig': '[{\"assignee_name\": \"\\\\ud55c\\\\uad6d\\\\uacfc\\\\ud559\\\\uae30\\\\uc220\\\\uc6d0\"}]',\n",
       " 'assignee_name_current': '[]',\n",
       " 'pub_date': '2003-02-20',\n",
       " 'priority_date': '2001-08-14',\n",
       " 'grant_date': '2004-04-28',\n",
       " 'filing_date': '',\n",
       " 'forward_cite_no_family': '[{\"patent_number\": \"KR100977094B1\", \"priority_date\": \"2009-07-13\", \"pub_date\": \"2010-08-19\"}]',\n",
       " 'forward_cite_yes_family': '[{\"patent_number\": \"EP1553129B2\", \"priority_date\": \"2004-01-08\", \"pub_date\": \"2014-07-23\"}, {\"patent_number\": \"KR100840394B1\", \"priority_date\": \"2007-02-12\", \"pub_date\": \"2008-06-23\"}, {\"patent_number\": \"KR101265783B1\", \"priority_date\": \"2011-09-28\", \"pub_date\": \"2013-05-20\"}, {\"patent_number\": \"KR101725279B1\", \"priority_date\": \"2015-10-27\", \"pub_date\": \"2017-04-10\"}]',\n",
       " 'backward_cite_no_family': '[{\"patent_number\": \"JPS61249920A\", \"priority_date\": \"1985-04-27\", \"pub_date\": \"1986-11-07\"}, {\"patent_number\": \"US4806358A\", \"priority_date\": \"1985-11-15\", \"pub_date\": \"1989-02-21\"}, {\"patent_number\": \"US5514378A\", \"priority_date\": \"1993-02-01\", \"pub_date\": \"1996-05-07\"}, {\"patent_number\": \"KR19980063026A\", \"priority_date\": \"1996-12-31\", \"pub_date\": \"1998-10-07\"}, {\"patent_number\": \"KR20000060718A\", \"priority_date\": \"1999-03-18\", \"pub_date\": \"2000-10-16\"}, {\"patent_number\": \"KR20010046841A\", \"priority_date\": \"1999-11-16\", \"pub_date\": \"2001-06-15\"}]',\n",
       " 'backward_cite_yes_family': '[]',\n",
       " 'abstract_text': '',\n",
       " 'url': 'https://patents.google.com/patent/KR100429000B1',\n",
       " 'patent': 'KR100429000B1'}"
      ]
     },
     "execution_count": 39,
     "metadata": {},
     "output_type": "execute_result"
    }
   ],
   "source": [
    "patent_2 = 'KR100429000B1'\n",
    "\n",
    "err_2, soup_2, url_2 = scraper.request_single_patent(patent_2)\n",
    "patent_2_parsed = scraper.get_scraped_data(soup_2,patent_2,url_2)\n",
    "patent_2_parsed"
   ]
  },
  {
   "cell_type": "code",
   "execution_count": 40,
   "metadata": {},
   "outputs": [
    {
     "data": {
      "text/plain": [
       "'[{\"inventor_name\": \"\\\\ubc15\\\\ud0dc\\\\uad00\"}, {\"inventor_name\": \"\\\\uc724\\\\uc900\\\\uc9c4\"}]'"
      ]
     },
     "execution_count": 40,
     "metadata": {},
     "output_type": "execute_result"
    }
   ],
   "source": [
    "patent_2_parsed['inventor_name']"
   ]
  },
  {
   "cell_type": "code",
   "execution_count": 59,
   "metadata": {},
   "outputs": [
    {
     "name": "stdout",
     "output_type": "stream",
     "text": [
      "박태관\n"
     ]
    }
   ],
   "source": [
    "x = b\"\\\\ubc15\\\\ud0dc\\\\uad00\"\n",
    "print(x.decode(\"unicode_escape\"))"
   ]
  },
  {
   "cell_type": "code",
   "execution_count": 52,
   "metadata": {},
   "outputs": [
    {
     "name": "stdout",
     "output_type": "stream",
     "text": [
      "ㅎㅇ\n"
     ]
    }
   ],
   "source": [
    "print('ㅎㅇ')"
   ]
  },
  {
   "cell_type": "code",
   "execution_count": null,
   "metadata": {},
   "outputs": [],
   "source": []
  }
 ],
 "metadata": {
  "kernelspec": {
   "display_name": "Python 3.10.6 64-bit",
   "language": "python",
   "name": "python3"
  },
  "language_info": {
   "codemirror_mode": {
    "name": "ipython",
    "version": 3
   },
   "file_extension": ".py",
   "mimetype": "text/x-python",
   "name": "python",
   "nbconvert_exporter": "python",
   "pygments_lexer": "ipython3",
   "version": "3.10.6"
  },
  "orig_nbformat": 4,
  "vscode": {
   "interpreter": {
    "hash": "916dbcbb3f70747c44a77c7bcd40155683ae19c65e1c03b4aa3499c5328201f1"
   }
  }
 },
 "nbformat": 4,
 "nbformat_minor": 2
}
