{
 "cells": [
  {
   "cell_type": "code",
   "execution_count": 11,
   "metadata": {},
   "outputs": [],
   "source": [
    "import pandas as pd\n",
    "import numpy as np\n",
    "from google_patent_scraper import scraper_class\n",
    "import json"
   ]
  },
  {
   "cell_type": "code",
   "execution_count": 4,
   "metadata": {},
   "outputs": [
    {
     "data": {
      "text/html": [
       "<div>\n",
       "<style scoped>\n",
       "    .dataframe tbody tr th:only-of-type {\n",
       "        vertical-align: middle;\n",
       "    }\n",
       "\n",
       "    .dataframe tbody tr th {\n",
       "        vertical-align: top;\n",
       "    }\n",
       "\n",
       "    .dataframe thead th {\n",
       "        text-align: right;\n",
       "    }\n",
       "</style>\n",
       "<table border=\"1\" class=\"dataframe\">\n",
       "  <thead>\n",
       "    <tr style=\"text-align: right;\">\n",
       "      <th></th>\n",
       "      <th>application_number</th>\n",
       "      <th>filing_date</th>\n",
       "      <th>inventor_name_first</th>\n",
       "      <th>inventor_name_middle</th>\n",
       "      <th>inventor_name_last</th>\n",
       "      <th>gender</th>\n",
       "      <th>inventor_rank</th>\n",
       "      <th>inventor_country_code</th>\n",
       "      <th>pat_no</th>\n",
       "      <th>claim_no</th>\n",
       "    </tr>\n",
       "  </thead>\n",
       "  <tbody>\n",
       "    <tr>\n",
       "      <th>0</th>\n",
       "      <td>9331991</td>\n",
       "      <td>2000-01-03</td>\n",
       "      <td>SEO</td>\n",
       "      <td>YOUNG</td>\n",
       "      <td>JEONG</td>\n",
       "      <td>andy</td>\n",
       "      <td>1.0</td>\n",
       "      <td>KR</td>\n",
       "      <td>6451348</td>\n",
       "      <td>NaN</td>\n",
       "    </tr>\n",
       "    <tr>\n",
       "      <th>1</th>\n",
       "      <td>9331991</td>\n",
       "      <td>2000-01-03</td>\n",
       "      <td>KUIWON</td>\n",
       "      <td>NaN</td>\n",
       "      <td>CHOI</td>\n",
       "      <td>unknown</td>\n",
       "      <td>2.0</td>\n",
       "      <td>KR</td>\n",
       "      <td>6451348</td>\n",
       "      <td>NaN</td>\n",
       "    </tr>\n",
       "    <tr>\n",
       "      <th>2</th>\n",
       "      <td>9331991</td>\n",
       "      <td>2000-01-03</td>\n",
       "      <td>ICK-CHAN</td>\n",
       "      <td>NaN</td>\n",
       "      <td>KWON</td>\n",
       "      <td>unknown</td>\n",
       "      <td>3.0</td>\n",
       "      <td>KR</td>\n",
       "      <td>6451348</td>\n",
       "      <td>NaN</td>\n",
       "    </tr>\n",
       "    <tr>\n",
       "      <th>3</th>\n",
       "      <td>9331991</td>\n",
       "      <td>2000-01-03</td>\n",
       "      <td>YONG-HEE</td>\n",
       "      <td>NaN</td>\n",
       "      <td>KIM</td>\n",
       "      <td>female</td>\n",
       "      <td>4.0</td>\n",
       "      <td>KR</td>\n",
       "      <td>6451348</td>\n",
       "      <td>NaN</td>\n",
       "    </tr>\n",
       "    <tr>\n",
       "      <th>4</th>\n",
       "      <td>9331991</td>\n",
       "      <td>2000-01-03</td>\n",
       "      <td>JAE</td>\n",
       "      <td>BONG</td>\n",
       "      <td>CHOI</td>\n",
       "      <td>andy</td>\n",
       "      <td>5.0</td>\n",
       "      <td>KR</td>\n",
       "      <td>6451348</td>\n",
       "      <td>NaN</td>\n",
       "    </tr>\n",
       "    <tr>\n",
       "      <th>...</th>\n",
       "      <td>...</td>\n",
       "      <td>...</td>\n",
       "      <td>...</td>\n",
       "      <td>...</td>\n",
       "      <td>...</td>\n",
       "      <td>...</td>\n",
       "      <td>...</td>\n",
       "      <td>...</td>\n",
       "      <td>...</td>\n",
       "      <td>...</td>\n",
       "    </tr>\n",
       "    <tr>\n",
       "      <th>1265321</th>\n",
       "      <td>17135301</td>\n",
       "      <td>2020-12-28</td>\n",
       "      <td>Sung An</td>\n",
       "      <td>NaN</td>\n",
       "      <td>GWEON</td>\n",
       "      <td>unknown</td>\n",
       "      <td>1.0</td>\n",
       "      <td>KR</td>\n",
       "      <td>10970633</td>\n",
       "      <td>NaN</td>\n",
       "    </tr>\n",
       "    <tr>\n",
       "      <th>1265322</th>\n",
       "      <td>17135301</td>\n",
       "      <td>2020-12-28</td>\n",
       "      <td>Yongjoong</td>\n",
       "      <td>NaN</td>\n",
       "      <td>KIM</td>\n",
       "      <td>unknown</td>\n",
       "      <td>2.0</td>\n",
       "      <td>KR</td>\n",
       "      <td>10970633</td>\n",
       "      <td>NaN</td>\n",
       "    </tr>\n",
       "    <tr>\n",
       "      <th>1265323</th>\n",
       "      <td>17135301</td>\n",
       "      <td>2020-12-28</td>\n",
       "      <td>Bongnam</td>\n",
       "      <td>NaN</td>\n",
       "      <td>KANG</td>\n",
       "      <td>unknown</td>\n",
       "      <td>3.0</td>\n",
       "      <td>KR</td>\n",
       "      <td>10970633</td>\n",
       "      <td>NaN</td>\n",
       "    </tr>\n",
       "    <tr>\n",
       "      <th>1265324</th>\n",
       "      <td>17135033</td>\n",
       "      <td>2020-12-28</td>\n",
       "      <td>Kye-Hyeon</td>\n",
       "      <td>NaN</td>\n",
       "      <td>KIM</td>\n",
       "      <td>unknown</td>\n",
       "      <td>1.0</td>\n",
       "      <td>KR</td>\n",
       "      <td>10970645</td>\n",
       "      <td>NaN</td>\n",
       "    </tr>\n",
       "    <tr>\n",
       "      <th>1265325</th>\n",
       "      <td>17135033</td>\n",
       "      <td>2020-12-28</td>\n",
       "      <td>Bongnam</td>\n",
       "      <td>NaN</td>\n",
       "      <td>KANG</td>\n",
       "      <td>unknown</td>\n",
       "      <td>2.0</td>\n",
       "      <td>KR</td>\n",
       "      <td>10970645</td>\n",
       "      <td>NaN</td>\n",
       "    </tr>\n",
       "  </tbody>\n",
       "</table>\n",
       "<p>1265326 rows × 10 columns</p>\n",
       "</div>"
      ],
      "text/plain": [
       "         application_number filing_date inventor_name_first  \\\n",
       "0                   9331991  2000-01-03                 SEO   \n",
       "1                   9331991  2000-01-03              KUIWON   \n",
       "2                   9331991  2000-01-03            ICK-CHAN   \n",
       "3                   9331991  2000-01-03            YONG-HEE   \n",
       "4                   9331991  2000-01-03                 JAE   \n",
       "...                     ...         ...                 ...   \n",
       "1265321            17135301  2020-12-28             Sung An   \n",
       "1265322            17135301  2020-12-28           Yongjoong   \n",
       "1265323            17135301  2020-12-28             Bongnam   \n",
       "1265324            17135033  2020-12-28           Kye-Hyeon   \n",
       "1265325            17135033  2020-12-28             Bongnam   \n",
       "\n",
       "        inventor_name_middle inventor_name_last   gender  inventor_rank  \\\n",
       "0                      YOUNG              JEONG     andy            1.0   \n",
       "1                        NaN               CHOI  unknown            2.0   \n",
       "2                        NaN               KWON  unknown            3.0   \n",
       "3                        NaN                KIM   female            4.0   \n",
       "4                       BONG               CHOI     andy            5.0   \n",
       "...                      ...                ...      ...            ...   \n",
       "1265321                  NaN              GWEON  unknown            1.0   \n",
       "1265322                  NaN                KIM  unknown            2.0   \n",
       "1265323                  NaN               KANG  unknown            3.0   \n",
       "1265324                  NaN                KIM  unknown            1.0   \n",
       "1265325                  NaN               KANG  unknown            2.0   \n",
       "\n",
       "        inventor_country_code    pat_no  claim_no  \n",
       "0                          KR   6451348       NaN  \n",
       "1                          KR   6451348       NaN  \n",
       "2                          KR   6451348       NaN  \n",
       "3                          KR   6451348       NaN  \n",
       "4                          KR   6451348       NaN  \n",
       "...                       ...       ...       ...  \n",
       "1265321                    KR  10970633       NaN  \n",
       "1265322                    KR  10970633       NaN  \n",
       "1265323                    KR  10970633       NaN  \n",
       "1265324                    KR  10970645       NaN  \n",
       "1265325                    KR  10970645       NaN  \n",
       "\n",
       "[1265326 rows x 10 columns]"
      ]
     },
     "execution_count": 4,
     "metadata": {},
     "output_type": "execute_result"
    }
   ],
   "source": [
    "df = pd.read_csv('inventors_filtered_by_cn_kr.csv')\n",
    "df"
   ]
  },
  {
   "cell_type": "code",
   "execution_count": 5,
   "metadata": {},
   "outputs": [
    {
     "name": "stdout",
     "output_type": "stream",
     "text": [
      "https://patents.google.com/patent/US6451348B1\n"
     ]
    },
    {
     "data": {
      "text/plain": [
       "{'inventor_name': '[{\"inventor_name\": \"Seo Young Jeong\"}, {\"inventor_name\": \"Kuiwon Choi\"}, {\"inventor_name\": \"Ick-Chan Kwon\"}, {\"inventor_name\": \"Yong-Hee Kim\"}, {\"inventor_name\": \"Jae Bong Choi\"}, {\"inventor_name\": \"Kyu Back Lee\"}]',\n",
       " 'assignee_name_orig': '[{\"assignee_name\": \"Korea Advanced Institute of Science and Technology KAIST\"}]',\n",
       " 'assignee_name_current': '[{\"assignee_name\": \"\\\\n    Korea Advanced Institute of Science and Technology KAIST\\\\n  \"}]',\n",
       " 'pub_date': '2002-09-17',\n",
       " 'priority_date': '1997-12-31',\n",
       " 'grant_date': '2002-09-17',\n",
       " 'filing_date': '',\n",
       " 'forward_cite_no_family': '[{\"patent_number\": \"WO2004028589A2\", \"priority_date\": \"2002-09-26\", \"pub_date\": \"2004-04-08\"}, {\"patent_number\": \"US20050077221A1\", \"priority_date\": \"2002-01-02\", \"pub_date\": \"2005-04-14\"}, {\"patent_number\": \"WO2006014138A1\", \"priority_date\": \"2004-08-03\", \"pub_date\": \"2006-02-09\"}, {\"patent_number\": \"US20060088567A1\", \"priority_date\": \"2004-10-27\", \"pub_date\": \"2006-04-27\"}, {\"patent_number\": \"US20070104656A1\", \"priority_date\": \"1998-04-30\", \"pub_date\": \"2007-05-10\"}, {\"patent_number\": \"US20070172509A1\", \"priority_date\": \"2006-01-24\", \"pub_date\": \"2007-07-26\"}, {\"patent_number\": \"US20070225388A1\", \"priority_date\": \"2004-01-28\", \"pub_date\": \"2007-09-27\"}, {\"patent_number\": \"US20080194709A1\", \"priority_date\": \"2004-11-22\", \"pub_date\": \"2008-08-14\"}, {\"patent_number\": \"US20100048755A1\", \"priority_date\": \"2006-11-17\", \"pub_date\": \"2010-02-25\"}, {\"patent_number\": \"US20120225100A1\", \"priority_date\": \"2011-03-01\", \"pub_date\": \"2012-09-06\"}, {\"patent_number\": \"WO2013090891A1\", \"priority_date\": \"2011-12-16\", \"pub_date\": \"2013-06-20\"}, {\"patent_number\": \"US8513353B2\", \"priority_date\": \"2009-03-19\", \"pub_date\": \"2013-08-20\"}]',\n",
       " 'forward_cite_yes_family': '[{\"patent_number\": \"US6482518B1\", \"priority_date\": \"1998-07-30\", \"pub_date\": \"2002-11-19\"}, {\"patent_number\": \"AU5532699A\", \"priority_date\": \"1998-09-05\", \"pub_date\": \"2000-03-27\"}, {\"patent_number\": \"US6306424B1\", \"priority_date\": \"1999-06-30\", \"pub_date\": \"2001-10-23\"}, {\"patent_number\": \"KR100381382B1\", \"priority_date\": \"2000-06-28\", \"pub_date\": \"2003-04-23\"}, {\"patent_number\": \"KR100376083B1\", \"priority_date\": \"2000-07-01\", \"pub_date\": \"2003-03-15\"}, {\"patent_number\": \"KR100429000B1\", \"priority_date\": \"2001-08-14\", \"pub_date\": \"2004-04-28\"}, {\"patent_number\": \"US20040185108A1\", \"priority_date\": \"2003-03-18\", \"pub_date\": \"2004-09-23\"}, {\"patent_number\": \"GB0401947D0\", \"priority_date\": \"2004-01-28\", \"pub_date\": \"2004-03-03\"}, {\"patent_number\": \"GB0501833D0\", \"priority_date\": \"2005-01-28\", \"pub_date\": \"2005-03-09\"}, {\"patent_number\": \"DE102005016193A1\", \"priority_date\": \"2005-04-08\", \"pub_date\": \"2006-10-12\"}, {\"patent_number\": \"CN106580926A\", \"priority_date\": \"2017-01-05\", \"pub_date\": \"2017-04-26\"}]',\n",
       " 'backward_cite_no_family': '[{\"patent_number\": \"US4371516A\", \"priority_date\": \"1976-10-06\", \"pub_date\": \"1983-02-01\"}, {\"patent_number\": \"US4305502A\", \"priority_date\": \"1977-07-20\", \"pub_date\": \"1981-12-15\"}, {\"patent_number\": \"US4818542A\", \"priority_date\": \"1983-11-14\", \"pub_date\": \"1989-04-04\"}, {\"patent_number\": \"US4616047A\", \"priority_date\": \"1984-03-30\", \"pub_date\": \"1986-10-07\"}, {\"patent_number\": \"US5626861A\", \"priority_date\": \"1994-04-01\", \"pub_date\": \"1997-05-06\"}, {\"patent_number\": \"US5942253A\", \"priority_date\": \"1995-10-12\", \"pub_date\": \"1999-08-24\"}, {\"patent_number\": \"US5723508A\", \"priority_date\": \"1996-01-25\", \"pub_date\": \"1998-03-03\"}]',\n",
       " 'backward_cite_yes_family': '[{\"patent_number\": \"JPS5637967B2\", \"priority_date\": \"1973-05-17\", \"pub_date\": \"1981-09-03\"}]',\n",
       " 'abstract_text': '',\n",
       " 'url': 'https://patents.google.com/patent/US6451348B1',\n",
       " 'patent': 'US6451348B1'}"
      ]
     },
     "execution_count": 5,
     "metadata": {},
     "output_type": "execute_result"
    }
   ],
   "source": [
    "scraper = scraper_class()\n",
    "patent_1 = 'US6451348B1'\n",
    "\n",
    "err_1, soup_1, url_1 = scraper.request_single_patent(patent_1)\n",
    "patent_1_parsed = scraper.get_scraped_data(soup_1,patent_1,url_1)\n",
    "patent_1_parsed"
   ]
  },
  {
   "cell_type": "code",
   "execution_count": 17,
   "metadata": {},
   "outputs": [
    {
     "name": "stdout",
     "output_type": "stream",
     "text": [
      "\"[{\\\"patent_number\\\": \\\"WO2004028589A2\\\", \\\"priority_date\\\": \\\"2002-09-26\\\", \\\"pub_date\\\": \\\"2004-04-08\\\"}, {\\\"patent_number\\\": \\\"US20050077221A1\\\", \\\"priority_date\\\": \\\"2002-01-02\\\", \\\"pub_date\\\": \\\"2005-04-14\\\"}, {\\\"patent_number\\\": \\\"WO2006014138A1\\\", \\\"priority_date\\\": \\\"2004-08-03\\\", \\\"pub_date\\\": \\\"2006-02-09\\\"}, {\\\"patent_number\\\": \\\"US20060088567A1\\\", \\\"priority_date\\\": \\\"2004-10-27\\\", \\\"pub_date\\\": \\\"2006-04-27\\\"}, {\\\"patent_number\\\": \\\"US20070104656A1\\\", \\\"priority_date\\\": \\\"1998-04-30\\\", \\\"pub_date\\\": \\\"2007-05-10\\\"}, {\\\"patent_number\\\": \\\"US20070172509A1\\\", \\\"priority_date\\\": \\\"2006-01-24\\\", \\\"pub_date\\\": \\\"2007-07-26\\\"}, {\\\"patent_number\\\": \\\"US20070225388A1\\\", \\\"priority_date\\\": \\\"2004-01-28\\\", \\\"pub_date\\\": \\\"2007-09-27\\\"}, {\\\"patent_number\\\": \\\"US20080194709A1\\\", \\\"priority_date\\\": \\\"2004-11-22\\\", \\\"pub_date\\\": \\\"2008-08-14\\\"}, {\\\"patent_number\\\": \\\"US20100048755A1\\\", \\\"priority_date\\\": \\\"2006-11-17\\\", \\\"pub_date\\\": \\\"2010-02-25\\\"}, {\\\"patent_number\\\": \\\"US20120225100A1\\\", \\\"priority_date\\\": \\\"2011-03-01\\\", \\\"pub_date\\\": \\\"2012-09-06\\\"}, {\\\"patent_number\\\": \\\"WO2013090891A1\\\", \\\"priority_date\\\": \\\"2011-12-16\\\", \\\"pub_date\\\": \\\"2013-06-20\\\"}, {\\\"patent_number\\\": \\\"US8513353B2\\\", \\\"priority_date\\\": \\\"2009-03-19\\\", \\\"pub_date\\\": \\\"2013-08-20\\\"}]\"\n"
     ]
    }
   ],
   "source": [
    "print(json.dumps(patent_1_parsed['forward_cite_no_family'], indent=4))"
   ]
  },
  {
   "cell_type": "code",
   "execution_count": 36,
   "metadata": {},
   "outputs": [
    {
     "name": "stdout",
     "output_type": "stream",
     "text": [
      "KR100381382B1\n",
      "KR100376083B1\n",
      "KR100429000B1\n"
     ]
    }
   ],
   "source": [
    "for key, value in patent_1_parsed.items():\n",
    "    if 'cite' in key:\n",
    "        for x in value[1:-1].split():\n",
    "            if \"KR\" in x:\n",
    "                print(x.replace('\"', '').replace(',', ''))"
   ]
  },
  {
   "cell_type": "code",
   "execution_count": 39,
   "metadata": {},
   "outputs": [
    {
     "name": "stdout",
     "output_type": "stream",
     "text": [
      "https://patents.google.com/patent/KR100429000B1\n"
     ]
    },
    {
     "data": {
      "text/plain": [
       "{'inventor_name': '[{\"inventor_name\": \"\\\\ubc15\\\\ud0dc\\\\uad00\"}, {\"inventor_name\": \"\\\\uc724\\\\uc900\\\\uc9c4\"}]',\n",
       " 'assignee_name_orig': '[{\"assignee_name\": \"\\\\ud55c\\\\uad6d\\\\uacfc\\\\ud559\\\\uae30\\\\uc220\\\\uc6d0\"}]',\n",
       " 'assignee_name_current': '[]',\n",
       " 'pub_date': '2003-02-20',\n",
       " 'priority_date': '2001-08-14',\n",
       " 'grant_date': '2004-04-28',\n",
       " 'filing_date': '',\n",
       " 'forward_cite_no_family': '[{\"patent_number\": \"KR100977094B1\", \"priority_date\": \"2009-07-13\", \"pub_date\": \"2010-08-19\"}]',\n",
       " 'forward_cite_yes_family': '[{\"patent_number\": \"EP1553129B2\", \"priority_date\": \"2004-01-08\", \"pub_date\": \"2014-07-23\"}, {\"patent_number\": \"KR100840394B1\", \"priority_date\": \"2007-02-12\", \"pub_date\": \"2008-06-23\"}, {\"patent_number\": \"KR101265783B1\", \"priority_date\": \"2011-09-28\", \"pub_date\": \"2013-05-20\"}, {\"patent_number\": \"KR101725279B1\", \"priority_date\": \"2015-10-27\", \"pub_date\": \"2017-04-10\"}]',\n",
       " 'backward_cite_no_family': '[{\"patent_number\": \"JPS61249920A\", \"priority_date\": \"1985-04-27\", \"pub_date\": \"1986-11-07\"}, {\"patent_number\": \"US4806358A\", \"priority_date\": \"1985-11-15\", \"pub_date\": \"1989-02-21\"}, {\"patent_number\": \"US5514378A\", \"priority_date\": \"1993-02-01\", \"pub_date\": \"1996-05-07\"}, {\"patent_number\": \"KR19980063026A\", \"priority_date\": \"1996-12-31\", \"pub_date\": \"1998-10-07\"}, {\"patent_number\": \"KR20000060718A\", \"priority_date\": \"1999-03-18\", \"pub_date\": \"2000-10-16\"}, {\"patent_number\": \"KR20010046841A\", \"priority_date\": \"1999-11-16\", \"pub_date\": \"2001-06-15\"}]',\n",
       " 'backward_cite_yes_family': '[]',\n",
       " 'abstract_text': '',\n",
       " 'url': 'https://patents.google.com/patent/KR100429000B1',\n",
       " 'patent': 'KR100429000B1'}"
      ]
     },
     "execution_count": 39,
     "metadata": {},
     "output_type": "execute_result"
    }
   ],
   "source": [
    "patent_2 = 'KR100429000B1'\n",
    "\n",
    "err_2, soup_2, url_2 = scraper.request_single_patent(patent_2)\n",
    "patent_2_parsed = scraper.get_scraped_data(soup_2,patent_2,url_2)\n",
    "patent_2_parsed"
   ]
  },
  {
   "cell_type": "code",
   "execution_count": 40,
   "metadata": {},
   "outputs": [
    {
     "data": {
      "text/plain": [
       "'[{\"inventor_name\": \"\\\\ubc15\\\\ud0dc\\\\uad00\"}, {\"inventor_name\": \"\\\\uc724\\\\uc900\\\\uc9c4\"}]'"
      ]
     },
     "execution_count": 40,
     "metadata": {},
     "output_type": "execute_result"
    }
   ],
   "source": [
    "patent_2_parsed['inventor_name']"
   ]
  },
  {
   "cell_type": "code",
   "execution_count": 41,
   "metadata": {},
   "outputs": [
    {
     "ename": "TypeError",
     "evalue": "JSONDecoder.__init__() got an unexpected keyword argument 'encoding'",
     "output_type": "error",
     "traceback": [
      "\u001b[0;31m---------------------------------------------------------------------------\u001b[0m",
      "\u001b[0;31mTypeError\u001b[0m                                 Traceback (most recent call last)",
      "Cell \u001b[0;32mIn [41], line 3\u001b[0m\n\u001b[1;32m      1\u001b[0m \u001b[39mfrom\u001b[39;00m \u001b[39mtranslate\u001b[39;00m \u001b[39mimport\u001b[39;00m translator\n\u001b[0;32m----> 3\u001b[0m translator(\u001b[39m'\u001b[39;49m\u001b[39men\u001b[39;49m\u001b[39m'\u001b[39;49m, \u001b[39m'\u001b[39;49m\u001b[39mko\u001b[39;49m\u001b[39m'\u001b[39;49m, \u001b[39m\"\u001b[39;49m\u001b[39mhello\u001b[39;49m\u001b[39m\"\u001b[39;49m)\n",
      "File \u001b[0;32m~/.local/lib/python3.10/site-packages/translate/translator.py:55\u001b[0m, in \u001b[0;36mpush_url.<locals>.connection\u001b[0;34m(*args, **kwargs)\u001b[0m\n\u001b[1;32m     51\u001b[0m     response\u001b[39m.\u001b[39mraise_for_status()\n\u001b[1;32m     53\u001b[0m cleanup \u001b[39m=\u001b[39m re\u001b[39m.\u001b[39msubn(\u001b[39mr\u001b[39m\u001b[39m'\u001b[39m\u001b[39m,(?=,)\u001b[39m\u001b[39m'\u001b[39m, \u001b[39m'\u001b[39m\u001b[39m'\u001b[39m, response\u001b[39m.\u001b[39mcontent\u001b[39m.\u001b[39mdecode(\u001b[39m'\u001b[39m\u001b[39mutf-8\u001b[39m\u001b[39m'\u001b[39m))[\u001b[39m0\u001b[39m]\n\u001b[0;32m---> 55\u001b[0m \u001b[39mreturn\u001b[39;00m json\u001b[39m.\u001b[39;49mloads(cleanup\u001b[39m.\u001b[39;49mreplace(\u001b[39mr\u001b[39;49m\u001b[39m'\u001b[39;49m\u001b[39m\\\u001b[39;49m\u001b[39mxA0\u001b[39;49m\u001b[39m'\u001b[39;49m, \u001b[39mr\u001b[39;49m\u001b[39m'\u001b[39;49m\u001b[39m \u001b[39;49m\u001b[39m'\u001b[39;49m)\u001b[39m.\u001b[39;49mreplace(\u001b[39m'\u001b[39;49m\u001b[39m[,\u001b[39;49m\u001b[39m'\u001b[39;49m, \u001b[39m'\u001b[39;49m\u001b[39m[1,\u001b[39;49m\u001b[39m'\u001b[39;49m), encoding\u001b[39m=\u001b[39;49m\u001b[39m'\u001b[39;49m\u001b[39mUTF-8\u001b[39;49m\u001b[39m'\u001b[39;49m)\n",
      "File \u001b[0;32m/usr/lib/python3.10/json/__init__.py:359\u001b[0m, in \u001b[0;36mloads\u001b[0;34m(s, cls, object_hook, parse_float, parse_int, parse_constant, object_pairs_hook, **kw)\u001b[0m\n\u001b[1;32m    357\u001b[0m \u001b[39mif\u001b[39;00m parse_constant \u001b[39mis\u001b[39;00m \u001b[39mnot\u001b[39;00m \u001b[39mNone\u001b[39;00m:\n\u001b[1;32m    358\u001b[0m     kw[\u001b[39m'\u001b[39m\u001b[39mparse_constant\u001b[39m\u001b[39m'\u001b[39m] \u001b[39m=\u001b[39m parse_constant\n\u001b[0;32m--> 359\u001b[0m \u001b[39mreturn\u001b[39;00m \u001b[39mcls\u001b[39;49m(\u001b[39m*\u001b[39;49m\u001b[39m*\u001b[39;49mkw)\u001b[39m.\u001b[39mdecode(s)\n",
      "\u001b[0;31mTypeError\u001b[0m: JSONDecoder.__init__() got an unexpected keyword argument 'encoding'"
     ]
    }
   ],
   "source": [
    "from translate import translator\n",
    "\n",
    "translator('en', 'ko', \"hello\")"
   ]
  }
 ],
 "metadata": {
  "kernelspec": {
   "display_name": "Python 3.10.6 64-bit",
   "language": "python",
   "name": "python3"
  },
  "language_info": {
   "codemirror_mode": {
    "name": "ipython",
    "version": 3
   },
   "file_extension": ".py",
   "mimetype": "text/x-python",
   "name": "python",
   "nbconvert_exporter": "python",
   "pygments_lexer": "ipython3",
   "version": "3.10.6"
  },
  "orig_nbformat": 4,
  "vscode": {
   "interpreter": {
    "hash": "916dbcbb3f70747c44a77c7bcd40155683ae19c65e1c03b4aa3499c5328201f1"
   }
  }
 },
 "nbformat": 4,
 "nbformat_minor": 2
}
